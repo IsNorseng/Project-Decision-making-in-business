{
 "cells": [
  {
   "cell_type": "markdown",
   "metadata": {},
   "source": [
    "**Описание данных**"
   ]
  },
  {
   "cell_type": "markdown",
   "metadata": {},
   "source": [
    "Часть 1  \n",
    "Файл /datasets/hypothesis.csv. Скачать датасет  \n",
    "- Hypothesis — краткое описание гипотезы;\n",
    "- Reach — охват пользователей по 10-балльной шкале;\n",
    "- Impact — влияние на пользователей по 10-балльной шкале;\n",
    "- Confidence — уверенность в гипотезе по 10-балльной шкале;\n",
    "- Efforts — затраты ресурсов на проверку гипотезы по 10-балльной шкале. Чем больше значение Efforts, тем дороже проверка гипотезы.\n"
   ]
  },
  {
   "cell_type": "markdown",
   "metadata": {},
   "source": [
    "Часть 2  \n",
    "Файл /datasets/orders.csv. Скачать датасет\n",
    "- transactionId — идентификатор заказа;\n",
    "- visitorId — идентификатор пользователя, совершившего заказ;\n",
    "- date — дата, когда был совершён заказ;\n",
    "- revenue — выручка заказа;\n",
    "- group — группа A/B-теста, в которую попал заказ.  \n",
    "\n",
    "Файл /datasets/visitors.csv. Скачать датасет  \n",
    "- date — дата;\n",
    "- group — группа A/B-теста;\n",
    "- visitors — количество пользователей в указанную дату в указанной группе A/B-теста"
   ]
  },
  {
   "cell_type": "markdown",
   "metadata": {},
   "source": [
    "**Описание проекта**"
   ]
  },
  {
   "cell_type": "markdown",
   "metadata": {},
   "source": [
    "В крупном интернет-магазине подготовлен список гипотез для увеличения выручки.  \n",
    "Необходимо приоритизировать гипотезы, запустить A/B-тест и проанализировать результаты"
   ]
  },
  {
   "cell_type": "markdown",
   "metadata": {},
   "source": [
    "## Приоритизация гипотез"
   ]
  },
  {
   "cell_type": "markdown",
   "metadata": {},
   "source": [
    "### Загрузка данных и подготовка их к анализу "
   ]
  },
  {
   "cell_type": "code",
   "execution_count": 1,
   "metadata": {},
   "outputs": [],
   "source": [
    "#Импорт библиотек\n",
    "import pandas as pd\n",
    "import numpy as np\n",
    "import matplotlib.pyplot as plt\n",
    "from datetime import datetime, timedelta\n",
    "import seaborn as sns\n",
    "from pymystem3 import Mystem\n",
    "from collections import Counter\n",
    "from scipy import stats as st\n",
    "import datetime as dt"
   ]
  },
  {
   "cell_type": "code",
   "execution_count": 2,
   "metadata": {},
   "outputs": [],
   "source": [
    "#Сформируем датасеты\n",
    "try:\n",
    "    hypothesis = pd.read_csv('/correct_path_file1')\n",
    "    orders = pd.read_csv('/correct_path_file2', sep=',')\n",
    "    visitors = pd.read_csv('/correct_path_file3', sep=',')\n",
    "\n",
    "except FileNotFoundError:\n",
    "    hypothesis = pd.read_csv('/incorrect_path_file1')\n",
    "    orders = pd.read_csv('/incorrect_path_file2', sep=',')\n",
    "    visitors = pd.read_csv('/incorrect_path_file3', sep=',')\n",
    "    print(\"Ошибка открытия\")"
   ]
  },
  {
   "cell_type": "code",
   "execution_count": 3,
   "metadata": {},
   "outputs": [
    {
     "data": {
      "text/html": [
       "<div>\n",
       "<style scoped>\n",
       "    .dataframe tbody tr th:only-of-type {\n",
       "        vertical-align: middle;\n",
       "    }\n",
       "\n",
       "    .dataframe tbody tr th {\n",
       "        vertical-align: top;\n",
       "    }\n",
       "\n",
       "    .dataframe thead th {\n",
       "        text-align: right;\n",
       "    }\n",
       "</style>\n",
       "<table border=\"1\" class=\"dataframe\">\n",
       "  <thead>\n",
       "    <tr style=\"text-align: right;\">\n",
       "      <th></th>\n",
       "      <th>Hypothesis</th>\n",
       "      <th>Reach</th>\n",
       "      <th>Impact</th>\n",
       "      <th>Confidence</th>\n",
       "      <th>Efforts</th>\n",
       "    </tr>\n",
       "  </thead>\n",
       "  <tbody>\n",
       "    <tr>\n",
       "      <td>0</td>\n",
       "      <td>Добавить два новых канала привлечения трафика,...</td>\n",
       "      <td>3</td>\n",
       "      <td>10</td>\n",
       "      <td>8</td>\n",
       "      <td>6</td>\n",
       "    </tr>\n",
       "    <tr>\n",
       "      <td>1</td>\n",
       "      <td>Запустить собственную службу доставки, что сок...</td>\n",
       "      <td>2</td>\n",
       "      <td>5</td>\n",
       "      <td>4</td>\n",
       "      <td>10</td>\n",
       "    </tr>\n",
       "    <tr>\n",
       "      <td>2</td>\n",
       "      <td>Добавить блоки рекомендаций товаров на сайт ин...</td>\n",
       "      <td>8</td>\n",
       "      <td>3</td>\n",
       "      <td>7</td>\n",
       "      <td>3</td>\n",
       "    </tr>\n",
       "    <tr>\n",
       "      <td>3</td>\n",
       "      <td>Изменить структура категорий, что увеличит кон...</td>\n",
       "      <td>8</td>\n",
       "      <td>3</td>\n",
       "      <td>3</td>\n",
       "      <td>8</td>\n",
       "    </tr>\n",
       "    <tr>\n",
       "      <td>4</td>\n",
       "      <td>Изменить цвет фона главной страницы, чтобы уве...</td>\n",
       "      <td>3</td>\n",
       "      <td>1</td>\n",
       "      <td>1</td>\n",
       "      <td>1</td>\n",
       "    </tr>\n",
       "  </tbody>\n",
       "</table>\n",
       "</div>"
      ],
      "text/plain": [
       "                                          Hypothesis  Reach  Impact  \\\n",
       "0  Добавить два новых канала привлечения трафика,...      3      10   \n",
       "1  Запустить собственную службу доставки, что сок...      2       5   \n",
       "2  Добавить блоки рекомендаций товаров на сайт ин...      8       3   \n",
       "3  Изменить структура категорий, что увеличит кон...      8       3   \n",
       "4  Изменить цвет фона главной страницы, чтобы уве...      3       1   \n",
       "\n",
       "   Confidence  Efforts  \n",
       "0           8        6  \n",
       "1           4       10  \n",
       "2           7        3  \n",
       "3           3        8  \n",
       "4           1        1  "
      ]
     },
     "metadata": {},
     "output_type": "display_data"
    },
    {
     "data": {
      "text/html": [
       "<div>\n",
       "<style scoped>\n",
       "    .dataframe tbody tr th:only-of-type {\n",
       "        vertical-align: middle;\n",
       "    }\n",
       "\n",
       "    .dataframe tbody tr th {\n",
       "        vertical-align: top;\n",
       "    }\n",
       "\n",
       "    .dataframe thead th {\n",
       "        text-align: right;\n",
       "    }\n",
       "</style>\n",
       "<table border=\"1\" class=\"dataframe\">\n",
       "  <thead>\n",
       "    <tr style=\"text-align: right;\">\n",
       "      <th></th>\n",
       "      <th>Reach</th>\n",
       "      <th>Impact</th>\n",
       "      <th>Confidence</th>\n",
       "      <th>Efforts</th>\n",
       "    </tr>\n",
       "  </thead>\n",
       "  <tbody>\n",
       "    <tr>\n",
       "      <td>count</td>\n",
       "      <td>9.000000</td>\n",
       "      <td>9.000000</td>\n",
       "      <td>9.000000</td>\n",
       "      <td>9.000000</td>\n",
       "    </tr>\n",
       "    <tr>\n",
       "      <td>mean</td>\n",
       "      <td>4.777778</td>\n",
       "      <td>4.777778</td>\n",
       "      <td>5.555556</td>\n",
       "      <td>4.888889</td>\n",
       "    </tr>\n",
       "    <tr>\n",
       "      <td>std</td>\n",
       "      <td>3.153481</td>\n",
       "      <td>3.192874</td>\n",
       "      <td>3.045944</td>\n",
       "      <td>2.803767</td>\n",
       "    </tr>\n",
       "    <tr>\n",
       "      <td>min</td>\n",
       "      <td>1.000000</td>\n",
       "      <td>1.000000</td>\n",
       "      <td>1.000000</td>\n",
       "      <td>1.000000</td>\n",
       "    </tr>\n",
       "    <tr>\n",
       "      <td>25%</td>\n",
       "      <td>3.000000</td>\n",
       "      <td>3.000000</td>\n",
       "      <td>3.000000</td>\n",
       "      <td>3.000000</td>\n",
       "    </tr>\n",
       "    <tr>\n",
       "      <td>50%</td>\n",
       "      <td>3.000000</td>\n",
       "      <td>3.000000</td>\n",
       "      <td>7.000000</td>\n",
       "      <td>5.000000</td>\n",
       "    </tr>\n",
       "    <tr>\n",
       "      <td>75%</td>\n",
       "      <td>8.000000</td>\n",
       "      <td>7.000000</td>\n",
       "      <td>8.000000</td>\n",
       "      <td>6.000000</td>\n",
       "    </tr>\n",
       "    <tr>\n",
       "      <td>max</td>\n",
       "      <td>10.000000</td>\n",
       "      <td>10.000000</td>\n",
       "      <td>9.000000</td>\n",
       "      <td>10.000000</td>\n",
       "    </tr>\n",
       "  </tbody>\n",
       "</table>\n",
       "</div>"
      ],
      "text/plain": [
       "           Reach     Impact  Confidence    Efforts\n",
       "count   9.000000   9.000000    9.000000   9.000000\n",
       "mean    4.777778   4.777778    5.555556   4.888889\n",
       "std     3.153481   3.192874    3.045944   2.803767\n",
       "min     1.000000   1.000000    1.000000   1.000000\n",
       "25%     3.000000   3.000000    3.000000   3.000000\n",
       "50%     3.000000   3.000000    7.000000   5.000000\n",
       "75%     8.000000   7.000000    8.000000   6.000000\n",
       "max    10.000000  10.000000    9.000000  10.000000"
      ]
     },
     "metadata": {},
     "output_type": "display_data"
    },
    {
     "name": "stdout",
     "output_type": "stream",
     "text": [
      "<class 'pandas.core.frame.DataFrame'>\n",
      "RangeIndex: 9 entries, 0 to 8\n",
      "Data columns (total 5 columns):\n",
      "Hypothesis    9 non-null object\n",
      "Reach         9 non-null int64\n",
      "Impact        9 non-null int64\n",
      "Confidence    9 non-null int64\n",
      "Efforts       9 non-null int64\n",
      "dtypes: int64(4), object(1)\n",
      "memory usage: 488.0+ bytes\n"
     ]
    },
    {
     "data": {
      "text/plain": [
       "None"
      ]
     },
     "metadata": {},
     "output_type": "display_data"
    },
    {
     "data": {
      "text/plain": [
       "0"
      ]
     },
     "metadata": {},
     "output_type": "display_data"
    },
    {
     "data": {
      "text/html": [
       "<div>\n",
       "<style scoped>\n",
       "    .dataframe tbody tr th:only-of-type {\n",
       "        vertical-align: middle;\n",
       "    }\n",
       "\n",
       "    .dataframe tbody tr th {\n",
       "        vertical-align: top;\n",
       "    }\n",
       "\n",
       "    .dataframe thead th {\n",
       "        text-align: right;\n",
       "    }\n",
       "</style>\n",
       "<table border=\"1\" class=\"dataframe\">\n",
       "  <thead>\n",
       "    <tr style=\"text-align: right;\">\n",
       "      <th></th>\n",
       "      <th>transactionId</th>\n",
       "      <th>visitorId</th>\n",
       "      <th>date</th>\n",
       "      <th>revenue</th>\n",
       "      <th>group</th>\n",
       "    </tr>\n",
       "  </thead>\n",
       "  <tbody>\n",
       "    <tr>\n",
       "      <td>0</td>\n",
       "      <td>3667963787</td>\n",
       "      <td>3312258926</td>\n",
       "      <td>2019-08-15</td>\n",
       "      <td>1650</td>\n",
       "      <td>B</td>\n",
       "    </tr>\n",
       "    <tr>\n",
       "      <td>1</td>\n",
       "      <td>2804400009</td>\n",
       "      <td>3642806036</td>\n",
       "      <td>2019-08-15</td>\n",
       "      <td>730</td>\n",
       "      <td>B</td>\n",
       "    </tr>\n",
       "    <tr>\n",
       "      <td>2</td>\n",
       "      <td>2961555356</td>\n",
       "      <td>4069496402</td>\n",
       "      <td>2019-08-15</td>\n",
       "      <td>400</td>\n",
       "      <td>A</td>\n",
       "    </tr>\n",
       "    <tr>\n",
       "      <td>3</td>\n",
       "      <td>3797467345</td>\n",
       "      <td>1196621759</td>\n",
       "      <td>2019-08-15</td>\n",
       "      <td>9759</td>\n",
       "      <td>B</td>\n",
       "    </tr>\n",
       "    <tr>\n",
       "      <td>4</td>\n",
       "      <td>2282983706</td>\n",
       "      <td>2322279887</td>\n",
       "      <td>2019-08-15</td>\n",
       "      <td>2308</td>\n",
       "      <td>B</td>\n",
       "    </tr>\n",
       "  </tbody>\n",
       "</table>\n",
       "</div>"
      ],
      "text/plain": [
       "   transactionId   visitorId        date  revenue group\n",
       "0     3667963787  3312258926  2019-08-15     1650     B\n",
       "1     2804400009  3642806036  2019-08-15      730     B\n",
       "2     2961555356  4069496402  2019-08-15      400     A\n",
       "3     3797467345  1196621759  2019-08-15     9759     B\n",
       "4     2282983706  2322279887  2019-08-15     2308     B"
      ]
     },
     "metadata": {},
     "output_type": "display_data"
    },
    {
     "data": {
      "text/html": [
       "<div>\n",
       "<style scoped>\n",
       "    .dataframe tbody tr th:only-of-type {\n",
       "        vertical-align: middle;\n",
       "    }\n",
       "\n",
       "    .dataframe tbody tr th {\n",
       "        vertical-align: top;\n",
       "    }\n",
       "\n",
       "    .dataframe thead th {\n",
       "        text-align: right;\n",
       "    }\n",
       "</style>\n",
       "<table border=\"1\" class=\"dataframe\">\n",
       "  <thead>\n",
       "    <tr style=\"text-align: right;\">\n",
       "      <th></th>\n",
       "      <th>transactionId</th>\n",
       "      <th>visitorId</th>\n",
       "      <th>revenue</th>\n",
       "    </tr>\n",
       "  </thead>\n",
       "  <tbody>\n",
       "    <tr>\n",
       "      <td>count</td>\n",
       "      <td>1.197000e+03</td>\n",
       "      <td>1.197000e+03</td>\n",
       "      <td>1.197000e+03</td>\n",
       "    </tr>\n",
       "    <tr>\n",
       "      <td>mean</td>\n",
       "      <td>2.155621e+09</td>\n",
       "      <td>2.165960e+09</td>\n",
       "      <td>8.348006e+03</td>\n",
       "    </tr>\n",
       "    <tr>\n",
       "      <td>std</td>\n",
       "      <td>1.229085e+09</td>\n",
       "      <td>1.236014e+09</td>\n",
       "      <td>3.919113e+04</td>\n",
       "    </tr>\n",
       "    <tr>\n",
       "      <td>min</td>\n",
       "      <td>1.062393e+06</td>\n",
       "      <td>5.114589e+06</td>\n",
       "      <td>5.000000e+01</td>\n",
       "    </tr>\n",
       "    <tr>\n",
       "      <td>25%</td>\n",
       "      <td>1.166776e+09</td>\n",
       "      <td>1.111826e+09</td>\n",
       "      <td>1.220000e+03</td>\n",
       "    </tr>\n",
       "    <tr>\n",
       "      <td>50%</td>\n",
       "      <td>2.145194e+09</td>\n",
       "      <td>2.217985e+09</td>\n",
       "      <td>2.978000e+03</td>\n",
       "    </tr>\n",
       "    <tr>\n",
       "      <td>75%</td>\n",
       "      <td>3.237740e+09</td>\n",
       "      <td>3.177606e+09</td>\n",
       "      <td>8.290000e+03</td>\n",
       "    </tr>\n",
       "    <tr>\n",
       "      <td>max</td>\n",
       "      <td>4.293856e+09</td>\n",
       "      <td>4.283872e+09</td>\n",
       "      <td>1.294500e+06</td>\n",
       "    </tr>\n",
       "  </tbody>\n",
       "</table>\n",
       "</div>"
      ],
      "text/plain": [
       "       transactionId     visitorId       revenue\n",
       "count   1.197000e+03  1.197000e+03  1.197000e+03\n",
       "mean    2.155621e+09  2.165960e+09  8.348006e+03\n",
       "std     1.229085e+09  1.236014e+09  3.919113e+04\n",
       "min     1.062393e+06  5.114589e+06  5.000000e+01\n",
       "25%     1.166776e+09  1.111826e+09  1.220000e+03\n",
       "50%     2.145194e+09  2.217985e+09  2.978000e+03\n",
       "75%     3.237740e+09  3.177606e+09  8.290000e+03\n",
       "max     4.293856e+09  4.283872e+09  1.294500e+06"
      ]
     },
     "metadata": {},
     "output_type": "display_data"
    },
    {
     "name": "stdout",
     "output_type": "stream",
     "text": [
      "<class 'pandas.core.frame.DataFrame'>\n",
      "RangeIndex: 1197 entries, 0 to 1196\n",
      "Data columns (total 5 columns):\n",
      "transactionId    1197 non-null int64\n",
      "visitorId        1197 non-null int64\n",
      "date             1197 non-null object\n",
      "revenue          1197 non-null int64\n",
      "group            1197 non-null object\n",
      "dtypes: int64(3), object(2)\n",
      "memory usage: 46.9+ KB\n"
     ]
    },
    {
     "data": {
      "text/plain": [
       "None"
      ]
     },
     "metadata": {},
     "output_type": "display_data"
    },
    {
     "data": {
      "text/plain": [
       "0"
      ]
     },
     "metadata": {},
     "output_type": "display_data"
    },
    {
     "data": {
      "text/html": [
       "<div>\n",
       "<style scoped>\n",
       "    .dataframe tbody tr th:only-of-type {\n",
       "        vertical-align: middle;\n",
       "    }\n",
       "\n",
       "    .dataframe tbody tr th {\n",
       "        vertical-align: top;\n",
       "    }\n",
       "\n",
       "    .dataframe thead th {\n",
       "        text-align: right;\n",
       "    }\n",
       "</style>\n",
       "<table border=\"1\" class=\"dataframe\">\n",
       "  <thead>\n",
       "    <tr style=\"text-align: right;\">\n",
       "      <th></th>\n",
       "      <th>date</th>\n",
       "      <th>group</th>\n",
       "      <th>visitors</th>\n",
       "    </tr>\n",
       "  </thead>\n",
       "  <tbody>\n",
       "    <tr>\n",
       "      <td>0</td>\n",
       "      <td>2019-08-01</td>\n",
       "      <td>A</td>\n",
       "      <td>719</td>\n",
       "    </tr>\n",
       "    <tr>\n",
       "      <td>1</td>\n",
       "      <td>2019-08-02</td>\n",
       "      <td>A</td>\n",
       "      <td>619</td>\n",
       "    </tr>\n",
       "    <tr>\n",
       "      <td>2</td>\n",
       "      <td>2019-08-03</td>\n",
       "      <td>A</td>\n",
       "      <td>507</td>\n",
       "    </tr>\n",
       "    <tr>\n",
       "      <td>3</td>\n",
       "      <td>2019-08-04</td>\n",
       "      <td>A</td>\n",
       "      <td>717</td>\n",
       "    </tr>\n",
       "    <tr>\n",
       "      <td>4</td>\n",
       "      <td>2019-08-05</td>\n",
       "      <td>A</td>\n",
       "      <td>756</td>\n",
       "    </tr>\n",
       "  </tbody>\n",
       "</table>\n",
       "</div>"
      ],
      "text/plain": [
       "         date group  visitors\n",
       "0  2019-08-01     A       719\n",
       "1  2019-08-02     A       619\n",
       "2  2019-08-03     A       507\n",
       "3  2019-08-04     A       717\n",
       "4  2019-08-05     A       756"
      ]
     },
     "metadata": {},
     "output_type": "display_data"
    },
    {
     "data": {
      "text/html": [
       "<div>\n",
       "<style scoped>\n",
       "    .dataframe tbody tr th:only-of-type {\n",
       "        vertical-align: middle;\n",
       "    }\n",
       "\n",
       "    .dataframe tbody tr th {\n",
       "        vertical-align: top;\n",
       "    }\n",
       "\n",
       "    .dataframe thead th {\n",
       "        text-align: right;\n",
       "    }\n",
       "</style>\n",
       "<table border=\"1\" class=\"dataframe\">\n",
       "  <thead>\n",
       "    <tr style=\"text-align: right;\">\n",
       "      <th></th>\n",
       "      <th>visitors</th>\n",
       "    </tr>\n",
       "  </thead>\n",
       "  <tbody>\n",
       "    <tr>\n",
       "      <td>count</td>\n",
       "      <td>62.000000</td>\n",
       "    </tr>\n",
       "    <tr>\n",
       "      <td>mean</td>\n",
       "      <td>607.290323</td>\n",
       "    </tr>\n",
       "    <tr>\n",
       "      <td>std</td>\n",
       "      <td>114.400560</td>\n",
       "    </tr>\n",
       "    <tr>\n",
       "      <td>min</td>\n",
       "      <td>361.000000</td>\n",
       "    </tr>\n",
       "    <tr>\n",
       "      <td>25%</td>\n",
       "      <td>534.000000</td>\n",
       "    </tr>\n",
       "    <tr>\n",
       "      <td>50%</td>\n",
       "      <td>624.500000</td>\n",
       "    </tr>\n",
       "    <tr>\n",
       "      <td>75%</td>\n",
       "      <td>710.500000</td>\n",
       "    </tr>\n",
       "    <tr>\n",
       "      <td>max</td>\n",
       "      <td>770.000000</td>\n",
       "    </tr>\n",
       "  </tbody>\n",
       "</table>\n",
       "</div>"
      ],
      "text/plain": [
       "         visitors\n",
       "count   62.000000\n",
       "mean   607.290323\n",
       "std    114.400560\n",
       "min    361.000000\n",
       "25%    534.000000\n",
       "50%    624.500000\n",
       "75%    710.500000\n",
       "max    770.000000"
      ]
     },
     "metadata": {},
     "output_type": "display_data"
    },
    {
     "name": "stdout",
     "output_type": "stream",
     "text": [
      "<class 'pandas.core.frame.DataFrame'>\n",
      "RangeIndex: 62 entries, 0 to 61\n",
      "Data columns (total 3 columns):\n",
      "date        62 non-null object\n",
      "group       62 non-null object\n",
      "visitors    62 non-null int64\n",
      "dtypes: int64(1), object(2)\n",
      "memory usage: 1.6+ KB\n"
     ]
    },
    {
     "data": {
      "text/plain": [
       "None"
      ]
     },
     "metadata": {},
     "output_type": "display_data"
    },
    {
     "data": {
      "text/plain": [
       "0"
      ]
     },
     "metadata": {},
     "output_type": "display_data"
    }
   ],
   "source": [
    "tables = [hypothesis, orders, visitors]\n",
    "\n",
    "for t in tables:\n",
    "    display(t.head())\n",
    "    display(t.describe())\n",
    "    display(t.info())\n",
    "    display(t.duplicated().sum())   "
   ]
  },
  {
   "cell_type": "code",
   "execution_count": 4,
   "metadata": {},
   "outputs": [],
   "source": [
    "#Чтобы часть столбцов в дальнейшем не скрывалась, настроим принудительное отображение\n",
    "pd.set_option('display.max_columns', None)"
   ]
  },
  {
   "cell_type": "code",
   "execution_count": 5,
   "metadata": {},
   "outputs": [],
   "source": [
    "#приведем к нижнему регистру названия столбцов\n",
    "hypothesis.columns = map(str.lower, hypothesis.columns)"
   ]
  },
  {
   "cell_type": "code",
   "execution_count": 6,
   "metadata": {},
   "outputs": [
    {
     "data": {
      "text/plain": [
       "['hypothesis', 'reach', 'impact', 'confidence', 'efforts']"
      ]
     },
     "execution_count": 6,
     "metadata": {},
     "output_type": "execute_result"
    }
   ],
   "source": [
    "#проверим названия столбцов\n",
    "hypothesis.columns.to_list()"
   ]
  },
  {
   "cell_type": "code",
   "execution_count": 7,
   "metadata": {},
   "outputs": [],
   "source": [
    "visitors['date'] = visitors['date'].map(\n",
    "    lambda x: dt.datetime.strptime(x, '%Y-%m-%d')\n",
    ")"
   ]
  },
  {
   "cell_type": "code",
   "execution_count": 8,
   "metadata": {},
   "outputs": [],
   "source": [
    "# преобразование данных о времени\n",
    "orders['date'] = orders['date'].map(\n",
    "    lambda x: dt.datetime.strptime(x, '%Y-%m-%d')\n",
    ")  "
   ]
  },
  {
   "cell_type": "code",
   "execution_count": 9,
   "metadata": {},
   "outputs": [
    {
     "data": {
      "text/plain": [
       "Index(['transactionId', 'visitorId', 'date', 'revenue', 'group'], dtype='object')"
      ]
     },
     "execution_count": 9,
     "metadata": {},
     "output_type": "execute_result"
    }
   ],
   "source": [
    "orders.columns"
   ]
  },
  {
   "cell_type": "markdown",
   "metadata": {},
   "source": [
    "Скорректировали названия столбцов (изменили на нижний регистр), изменили формат данных для дат, дубликаты и пропуски не обнаружены.  \n",
    "Можно приступать а анализу."
   ]
  },
  {
   "cell_type": "markdown",
   "metadata": {},
   "source": [
    "### Применение фреймворка ICE для приоритизации гипотез. Сортировка их по убыванию приоритета."
   ]
  },
  {
   "cell_type": "code",
   "execution_count": 10,
   "metadata": {},
   "outputs": [],
   "source": [
    "pd.set_option(\"max_colwidth\", 999)"
   ]
  },
  {
   "cell_type": "code",
   "execution_count": 11,
   "metadata": {},
   "outputs": [
    {
     "data": {
      "text/html": [
       "<div>\n",
       "<style scoped>\n",
       "    .dataframe tbody tr th:only-of-type {\n",
       "        vertical-align: middle;\n",
       "    }\n",
       "\n",
       "    .dataframe tbody tr th {\n",
       "        vertical-align: top;\n",
       "    }\n",
       "\n",
       "    .dataframe thead th {\n",
       "        text-align: right;\n",
       "    }\n",
       "</style>\n",
       "<table border=\"1\" class=\"dataframe\">\n",
       "  <thead>\n",
       "    <tr style=\"text-align: right;\">\n",
       "      <th></th>\n",
       "      <th>hypothesis</th>\n",
       "      <th>ICE</th>\n",
       "    </tr>\n",
       "  </thead>\n",
       "  <tbody>\n",
       "    <tr>\n",
       "      <td>8</td>\n",
       "      <td>Запустить акцию, дающую скидку на товар в день рождения</td>\n",
       "      <td>16.20</td>\n",
       "    </tr>\n",
       "    <tr>\n",
       "      <td>0</td>\n",
       "      <td>Добавить два новых канала привлечения трафика, что позволит привлекать на 30% больше пользователей</td>\n",
       "      <td>13.33</td>\n",
       "    </tr>\n",
       "    <tr>\n",
       "      <td>7</td>\n",
       "      <td>Добавить форму подписки на все основные страницы, чтобы собрать базу клиентов для email-рассылок</td>\n",
       "      <td>11.20</td>\n",
       "    </tr>\n",
       "    <tr>\n",
       "      <td>6</td>\n",
       "      <td>Показать на главной странице баннеры с актуальными акциями и распродажами, чтобы увеличить конверсию</td>\n",
       "      <td>8.00</td>\n",
       "    </tr>\n",
       "    <tr>\n",
       "      <td>2</td>\n",
       "      <td>Добавить блоки рекомендаций товаров на сайт интернет магазина, чтобы повысить конверсию и средний чек заказа</td>\n",
       "      <td>7.00</td>\n",
       "    </tr>\n",
       "    <tr>\n",
       "      <td>1</td>\n",
       "      <td>Запустить собственную службу доставки, что сократит срок доставки заказов</td>\n",
       "      <td>2.00</td>\n",
       "    </tr>\n",
       "    <tr>\n",
       "      <td>5</td>\n",
       "      <td>Добавить страницу отзывов клиентов о магазине, что позволит увеличить количество заказов</td>\n",
       "      <td>1.33</td>\n",
       "    </tr>\n",
       "    <tr>\n",
       "      <td>3</td>\n",
       "      <td>Изменить структура категорий, что увеличит конверсию, т.к. пользователи быстрее найдут нужный товар</td>\n",
       "      <td>1.12</td>\n",
       "    </tr>\n",
       "    <tr>\n",
       "      <td>4</td>\n",
       "      <td>Изменить цвет фона главной страницы, чтобы увеличить вовлеченность пользователей</td>\n",
       "      <td>1.00</td>\n",
       "    </tr>\n",
       "  </tbody>\n",
       "</table>\n",
       "</div>"
      ],
      "text/plain": [
       "                                                                                                     hypothesis  \\\n",
       "8                                                       Запустить акцию, дающую скидку на товар в день рождения   \n",
       "0            Добавить два новых канала привлечения трафика, что позволит привлекать на 30% больше пользователей   \n",
       "7              Добавить форму подписки на все основные страницы, чтобы собрать базу клиентов для email-рассылок   \n",
       "6          Показать на главной странице баннеры с актуальными акциями и распродажами, чтобы увеличить конверсию   \n",
       "2  Добавить блоки рекомендаций товаров на сайт интернет магазина, чтобы повысить конверсию и средний чек заказа   \n",
       "1                                     Запустить собственную службу доставки, что сократит срок доставки заказов   \n",
       "5                      Добавить страницу отзывов клиентов о магазине, что позволит увеличить количество заказов   \n",
       "3           Изменить структура категорий, что увеличит конверсию, т.к. пользователи быстрее найдут нужный товар   \n",
       "4                              Изменить цвет фона главной страницы, чтобы увеличить вовлеченность пользователей   \n",
       "\n",
       "     ICE  \n",
       "8  16.20  \n",
       "0  13.33  \n",
       "7  11.20  \n",
       "6   8.00  \n",
       "2   7.00  \n",
       "1   2.00  \n",
       "5   1.33  \n",
       "3   1.12  \n",
       "4   1.00  "
      ]
     },
     "execution_count": 11,
     "metadata": {},
     "output_type": "execute_result"
    }
   ],
   "source": [
    "# Посчитаем ICE для гипотез\n",
    "hypothesis['ICE'] = ( hypothesis['impact'] * hypothesis['confidence']) / hypothesis['efforts']\n",
    "hypothesis[['hypothesis', 'ICE']].sort_values(by='ICE', ascending=False).round(2)"
   ]
  },
  {
   "cell_type": "markdown",
   "metadata": {},
   "source": [
    "Лидером становится гипотеза 8"
   ]
  },
  {
   "cell_type": "markdown",
   "metadata": {},
   "source": [
    "### Применение фреймворка RICE для приоритизации гипотез. Сортировка их по убыванию приоритета."
   ]
  },
  {
   "cell_type": "code",
   "execution_count": 12,
   "metadata": {},
   "outputs": [
    {
     "data": {
      "text/html": [
       "<div>\n",
       "<style scoped>\n",
       "    .dataframe tbody tr th:only-of-type {\n",
       "        vertical-align: middle;\n",
       "    }\n",
       "\n",
       "    .dataframe tbody tr th {\n",
       "        vertical-align: top;\n",
       "    }\n",
       "\n",
       "    .dataframe thead th {\n",
       "        text-align: right;\n",
       "    }\n",
       "</style>\n",
       "<table border=\"1\" class=\"dataframe\">\n",
       "  <thead>\n",
       "    <tr style=\"text-align: right;\">\n",
       "      <th></th>\n",
       "      <th>hypothesis</th>\n",
       "      <th>RICE</th>\n",
       "    </tr>\n",
       "  </thead>\n",
       "  <tbody>\n",
       "    <tr>\n",
       "      <td>7</td>\n",
       "      <td>Добавить форму подписки на все основные страницы, чтобы собрать базу клиентов для email-рассылок</td>\n",
       "      <td>112.0</td>\n",
       "    </tr>\n",
       "    <tr>\n",
       "      <td>2</td>\n",
       "      <td>Добавить блоки рекомендаций товаров на сайт интернет магазина, чтобы повысить конверсию и средний чек заказа</td>\n",
       "      <td>56.0</td>\n",
       "    </tr>\n",
       "    <tr>\n",
       "      <td>0</td>\n",
       "      <td>Добавить два новых канала привлечения трафика, что позволит привлекать на 30% больше пользователей</td>\n",
       "      <td>40.0</td>\n",
       "    </tr>\n",
       "    <tr>\n",
       "      <td>6</td>\n",
       "      <td>Показать на главной странице баннеры с актуальными акциями и распродажами, чтобы увеличить конверсию</td>\n",
       "      <td>40.0</td>\n",
       "    </tr>\n",
       "    <tr>\n",
       "      <td>8</td>\n",
       "      <td>Запустить акцию, дающую скидку на товар в день рождения</td>\n",
       "      <td>16.2</td>\n",
       "    </tr>\n",
       "    <tr>\n",
       "      <td>3</td>\n",
       "      <td>Изменить структура категорий, что увеличит конверсию, т.к. пользователи быстрее найдут нужный товар</td>\n",
       "      <td>9.0</td>\n",
       "    </tr>\n",
       "    <tr>\n",
       "      <td>1</td>\n",
       "      <td>Запустить собственную службу доставки, что сократит срок доставки заказов</td>\n",
       "      <td>4.0</td>\n",
       "    </tr>\n",
       "    <tr>\n",
       "      <td>5</td>\n",
       "      <td>Добавить страницу отзывов клиентов о магазине, что позволит увеличить количество заказов</td>\n",
       "      <td>4.0</td>\n",
       "    </tr>\n",
       "    <tr>\n",
       "      <td>4</td>\n",
       "      <td>Изменить цвет фона главной страницы, чтобы увеличить вовлеченность пользователей</td>\n",
       "      <td>3.0</td>\n",
       "    </tr>\n",
       "  </tbody>\n",
       "</table>\n",
       "</div>"
      ],
      "text/plain": [
       "                                                                                                     hypothesis  \\\n",
       "7              Добавить форму подписки на все основные страницы, чтобы собрать базу клиентов для email-рассылок   \n",
       "2  Добавить блоки рекомендаций товаров на сайт интернет магазина, чтобы повысить конверсию и средний чек заказа   \n",
       "0            Добавить два новых канала привлечения трафика, что позволит привлекать на 30% больше пользователей   \n",
       "6          Показать на главной странице баннеры с актуальными акциями и распродажами, чтобы увеличить конверсию   \n",
       "8                                                       Запустить акцию, дающую скидку на товар в день рождения   \n",
       "3           Изменить структура категорий, что увеличит конверсию, т.к. пользователи быстрее найдут нужный товар   \n",
       "1                                     Запустить собственную службу доставки, что сократит срок доставки заказов   \n",
       "5                      Добавить страницу отзывов клиентов о магазине, что позволит увеличить количество заказов   \n",
       "4                              Изменить цвет фона главной страницы, чтобы увеличить вовлеченность пользователей   \n",
       "\n",
       "    RICE  \n",
       "7  112.0  \n",
       "2   56.0  \n",
       "0   40.0  \n",
       "6   40.0  \n",
       "8   16.2  \n",
       "3    9.0  \n",
       "1    4.0  \n",
       "5    4.0  \n",
       "4    3.0  "
      ]
     },
     "execution_count": 12,
     "metadata": {},
     "output_type": "execute_result"
    }
   ],
   "source": [
    "# Посчитаем RICE для гипотез\n",
    "hypothesis['RICE'] = (hypothesis['reach'] *  hypothesis['impact'] * hypothesis['confidence']) / hypothesis['efforts']\n",
    "hypothesis[['hypothesis', 'RICE']].sort_values(by='RICE', ascending=False).round(2)"
   ]
  },
  {
   "cell_type": "markdown",
   "metadata": {},
   "source": [
    "На первом месте гипотеза 7."
   ]
  },
  {
   "cell_type": "markdown",
   "metadata": {},
   "source": [
    "### Анализ, как изменилась приоритизация гипотез при применении RICE вместо ICE.  \n",
    "Почему же так произошло."
   ]
  },
  {
   "cell_type": "code",
   "execution_count": 13,
   "metadata": {},
   "outputs": [
    {
     "data": {
      "text/html": [
       "<div>\n",
       "<style scoped>\n",
       "    .dataframe tbody tr th:only-of-type {\n",
       "        vertical-align: middle;\n",
       "    }\n",
       "\n",
       "    .dataframe tbody tr th {\n",
       "        vertical-align: top;\n",
       "    }\n",
       "\n",
       "    .dataframe thead th {\n",
       "        text-align: right;\n",
       "    }\n",
       "</style>\n",
       "<table border=\"1\" class=\"dataframe\">\n",
       "  <thead>\n",
       "    <tr style=\"text-align: right;\">\n",
       "      <th></th>\n",
       "      <th>hypothesis</th>\n",
       "      <th>reach</th>\n",
       "      <th>impact</th>\n",
       "      <th>confidence</th>\n",
       "      <th>efforts</th>\n",
       "      <th>ICE</th>\n",
       "      <th>RICE</th>\n",
       "    </tr>\n",
       "  </thead>\n",
       "  <tbody>\n",
       "    <tr>\n",
       "      <td>0</td>\n",
       "      <td>Добавить два новых канала привлечения трафика, что позволит привлекать на 30% больше пользователей</td>\n",
       "      <td>3</td>\n",
       "      <td>10</td>\n",
       "      <td>8</td>\n",
       "      <td>6</td>\n",
       "      <td>13.333333</td>\n",
       "      <td>40.0</td>\n",
       "    </tr>\n",
       "    <tr>\n",
       "      <td>1</td>\n",
       "      <td>Запустить собственную службу доставки, что сократит срок доставки заказов</td>\n",
       "      <td>2</td>\n",
       "      <td>5</td>\n",
       "      <td>4</td>\n",
       "      <td>10</td>\n",
       "      <td>2.000000</td>\n",
       "      <td>4.0</td>\n",
       "    </tr>\n",
       "    <tr>\n",
       "      <td>2</td>\n",
       "      <td>Добавить блоки рекомендаций товаров на сайт интернет магазина, чтобы повысить конверсию и средний чек заказа</td>\n",
       "      <td>8</td>\n",
       "      <td>3</td>\n",
       "      <td>7</td>\n",
       "      <td>3</td>\n",
       "      <td>7.000000</td>\n",
       "      <td>56.0</td>\n",
       "    </tr>\n",
       "    <tr>\n",
       "      <td>3</td>\n",
       "      <td>Изменить структура категорий, что увеличит конверсию, т.к. пользователи быстрее найдут нужный товар</td>\n",
       "      <td>8</td>\n",
       "      <td>3</td>\n",
       "      <td>3</td>\n",
       "      <td>8</td>\n",
       "      <td>1.125000</td>\n",
       "      <td>9.0</td>\n",
       "    </tr>\n",
       "    <tr>\n",
       "      <td>4</td>\n",
       "      <td>Изменить цвет фона главной страницы, чтобы увеличить вовлеченность пользователей</td>\n",
       "      <td>3</td>\n",
       "      <td>1</td>\n",
       "      <td>1</td>\n",
       "      <td>1</td>\n",
       "      <td>1.000000</td>\n",
       "      <td>3.0</td>\n",
       "    </tr>\n",
       "    <tr>\n",
       "      <td>5</td>\n",
       "      <td>Добавить страницу отзывов клиентов о магазине, что позволит увеличить количество заказов</td>\n",
       "      <td>3</td>\n",
       "      <td>2</td>\n",
       "      <td>2</td>\n",
       "      <td>3</td>\n",
       "      <td>1.333333</td>\n",
       "      <td>4.0</td>\n",
       "    </tr>\n",
       "    <tr>\n",
       "      <td>6</td>\n",
       "      <td>Показать на главной странице баннеры с актуальными акциями и распродажами, чтобы увеличить конверсию</td>\n",
       "      <td>5</td>\n",
       "      <td>3</td>\n",
       "      <td>8</td>\n",
       "      <td>3</td>\n",
       "      <td>8.000000</td>\n",
       "      <td>40.0</td>\n",
       "    </tr>\n",
       "    <tr>\n",
       "      <td>7</td>\n",
       "      <td>Добавить форму подписки на все основные страницы, чтобы собрать базу клиентов для email-рассылок</td>\n",
       "      <td>10</td>\n",
       "      <td>7</td>\n",
       "      <td>8</td>\n",
       "      <td>5</td>\n",
       "      <td>11.200000</td>\n",
       "      <td>112.0</td>\n",
       "    </tr>\n",
       "    <tr>\n",
       "      <td>8</td>\n",
       "      <td>Запустить акцию, дающую скидку на товар в день рождения</td>\n",
       "      <td>1</td>\n",
       "      <td>9</td>\n",
       "      <td>9</td>\n",
       "      <td>5</td>\n",
       "      <td>16.200000</td>\n",
       "      <td>16.2</td>\n",
       "    </tr>\n",
       "  </tbody>\n",
       "</table>\n",
       "</div>"
      ],
      "text/plain": [
       "                                                                                                     hypothesis  \\\n",
       "0            Добавить два новых канала привлечения трафика, что позволит привлекать на 30% больше пользователей   \n",
       "1                                     Запустить собственную службу доставки, что сократит срок доставки заказов   \n",
       "2  Добавить блоки рекомендаций товаров на сайт интернет магазина, чтобы повысить конверсию и средний чек заказа   \n",
       "3           Изменить структура категорий, что увеличит конверсию, т.к. пользователи быстрее найдут нужный товар   \n",
       "4                              Изменить цвет фона главной страницы, чтобы увеличить вовлеченность пользователей   \n",
       "5                      Добавить страницу отзывов клиентов о магазине, что позволит увеличить количество заказов   \n",
       "6          Показать на главной странице баннеры с актуальными акциями и распродажами, чтобы увеличить конверсию   \n",
       "7              Добавить форму подписки на все основные страницы, чтобы собрать базу клиентов для email-рассылок   \n",
       "8                                                       Запустить акцию, дающую скидку на товар в день рождения   \n",
       "\n",
       "   reach  impact  confidence  efforts        ICE   RICE  \n",
       "0      3      10           8        6  13.333333   40.0  \n",
       "1      2       5           4       10   2.000000    4.0  \n",
       "2      8       3           7        3   7.000000   56.0  \n",
       "3      8       3           3        8   1.125000    9.0  \n",
       "4      3       1           1        1   1.000000    3.0  \n",
       "5      3       2           2        3   1.333333    4.0  \n",
       "6      5       3           8        3   8.000000   40.0  \n",
       "7     10       7           8        5  11.200000  112.0  \n",
       "8      1       9           9        5  16.200000   16.2  "
      ]
     },
     "execution_count": 13,
     "metadata": {},
     "output_type": "execute_result"
    }
   ],
   "source": [
    "# Посмотрим на таблицу \n",
    "hypothesis"
   ]
  },
  {
   "cell_type": "markdown",
   "metadata": {},
   "source": [
    "Как мы видим в пятерке лучших одни и те же гипотезы (0, 2, 6, 7, 8).\n",
    "Однако, если при ICE на первом месте гипотеза 8, то при расчёте RICE, на первое место вырвалась гипотеза под номером 7.  \n",
    "Так получилось потому, что её (7) параметр reach равен 10, в то время как у остальных гипотез он меньше.  \n",
    "Параметр охвата (Reach), использующийся в методе RICE изменил всю приоритетность, полученную по методу ICE.  \n",
    "Кроме силы гипотезы нужно учитывать и то, сколько пользователей она затронет."
   ]
  },
  {
   "cell_type": "markdown",
   "metadata": {},
   "source": [
    "## Часть 2. Анализ A/B-теста"
   ]
  },
  {
   "cell_type": "markdown",
   "metadata": {},
   "source": [
    "### Построим график кумулятивной выручки по группам.   \n",
    "Сделаем выводы и предположения."
   ]
  },
  {
   "cell_type": "code",
   "execution_count": 14,
   "metadata": {
    "scrolled": false
   },
   "outputs": [
    {
     "data": {
      "text/html": [
       "<div>\n",
       "<style scoped>\n",
       "    .dataframe tbody tr th:only-of-type {\n",
       "        vertical-align: middle;\n",
       "    }\n",
       "\n",
       "    .dataframe tbody tr th {\n",
       "        vertical-align: top;\n",
       "    }\n",
       "\n",
       "    .dataframe thead th {\n",
       "        text-align: right;\n",
       "    }\n",
       "</style>\n",
       "<table border=\"1\" class=\"dataframe\">\n",
       "  <thead>\n",
       "    <tr style=\"text-align: right;\">\n",
       "      <th></th>\n",
       "      <th>transactionId</th>\n",
       "      <th>visitorId</th>\n",
       "      <th>date</th>\n",
       "      <th>revenue</th>\n",
       "      <th>group</th>\n",
       "    </tr>\n",
       "  </thead>\n",
       "  <tbody>\n",
       "    <tr>\n",
       "      <td>0</td>\n",
       "      <td>3667963787</td>\n",
       "      <td>3312258926</td>\n",
       "      <td>2019-08-15</td>\n",
       "      <td>1650</td>\n",
       "      <td>B</td>\n",
       "    </tr>\n",
       "    <tr>\n",
       "      <td>1</td>\n",
       "      <td>2804400009</td>\n",
       "      <td>3642806036</td>\n",
       "      <td>2019-08-15</td>\n",
       "      <td>730</td>\n",
       "      <td>B</td>\n",
       "    </tr>\n",
       "    <tr>\n",
       "      <td>2</td>\n",
       "      <td>2961555356</td>\n",
       "      <td>4069496402</td>\n",
       "      <td>2019-08-15</td>\n",
       "      <td>400</td>\n",
       "      <td>A</td>\n",
       "    </tr>\n",
       "    <tr>\n",
       "      <td>3</td>\n",
       "      <td>3797467345</td>\n",
       "      <td>1196621759</td>\n",
       "      <td>2019-08-15</td>\n",
       "      <td>9759</td>\n",
       "      <td>B</td>\n",
       "    </tr>\n",
       "    <tr>\n",
       "      <td>4</td>\n",
       "      <td>2282983706</td>\n",
       "      <td>2322279887</td>\n",
       "      <td>2019-08-15</td>\n",
       "      <td>2308</td>\n",
       "      <td>B</td>\n",
       "    </tr>\n",
       "  </tbody>\n",
       "</table>\n",
       "</div>"
      ],
      "text/plain": [
       "   transactionId   visitorId       date  revenue group\n",
       "0     3667963787  3312258926 2019-08-15     1650     B\n",
       "1     2804400009  3642806036 2019-08-15      730     B\n",
       "2     2961555356  4069496402 2019-08-15      400     A\n",
       "3     3797467345  1196621759 2019-08-15     9759     B\n",
       "4     2282983706  2322279887 2019-08-15     2308     B"
      ]
     },
     "execution_count": 14,
     "metadata": {},
     "output_type": "execute_result"
    }
   ],
   "source": [
    "orders.head()"
   ]
  },
  {
   "cell_type": "code",
   "execution_count": 15,
   "metadata": {
    "scrolled": true
   },
   "outputs": [
    {
     "data": {
      "text/html": [
       "<div>\n",
       "<style scoped>\n",
       "    .dataframe tbody tr th:only-of-type {\n",
       "        vertical-align: middle;\n",
       "    }\n",
       "\n",
       "    .dataframe tbody tr th {\n",
       "        vertical-align: top;\n",
       "    }\n",
       "\n",
       "    .dataframe thead th {\n",
       "        text-align: right;\n",
       "    }\n",
       "</style>\n",
       "<table border=\"1\" class=\"dataframe\">\n",
       "  <thead>\n",
       "    <tr style=\"text-align: right;\">\n",
       "      <th></th>\n",
       "      <th>date</th>\n",
       "      <th>group</th>\n",
       "      <th>visitors</th>\n",
       "    </tr>\n",
       "  </thead>\n",
       "  <tbody>\n",
       "    <tr>\n",
       "      <td>0</td>\n",
       "      <td>2019-08-01</td>\n",
       "      <td>A</td>\n",
       "      <td>719</td>\n",
       "    </tr>\n",
       "    <tr>\n",
       "      <td>1</td>\n",
       "      <td>2019-08-02</td>\n",
       "      <td>A</td>\n",
       "      <td>619</td>\n",
       "    </tr>\n",
       "    <tr>\n",
       "      <td>2</td>\n",
       "      <td>2019-08-03</td>\n",
       "      <td>A</td>\n",
       "      <td>507</td>\n",
       "    </tr>\n",
       "    <tr>\n",
       "      <td>3</td>\n",
       "      <td>2019-08-04</td>\n",
       "      <td>A</td>\n",
       "      <td>717</td>\n",
       "    </tr>\n",
       "    <tr>\n",
       "      <td>4</td>\n",
       "      <td>2019-08-05</td>\n",
       "      <td>A</td>\n",
       "      <td>756</td>\n",
       "    </tr>\n",
       "  </tbody>\n",
       "</table>\n",
       "</div>"
      ],
      "text/plain": [
       "        date group  visitors\n",
       "0 2019-08-01     A       719\n",
       "1 2019-08-02     A       619\n",
       "2 2019-08-03     A       507\n",
       "3 2019-08-04     A       717\n",
       "4 2019-08-05     A       756"
      ]
     },
     "execution_count": 15,
     "metadata": {},
     "output_type": "execute_result"
    }
   ],
   "source": [
    "visitors.head()"
   ]
  },
  {
   "cell_type": "code",
   "execution_count": 16,
   "metadata": {
    "scrolled": true
   },
   "outputs": [
    {
     "data": {
      "text/plain": [
       "array([   8300375,  199603092,  232979603,  237748145,  276558944,\n",
       "        351125977,  393266494,  457167155,  471551937,  477780734,\n",
       "        818047933,  963407295, 1230306981, 1294878855, 1316129916,\n",
       "       1333886533, 1404934699, 1602967004, 1614305549, 1648269707,\n",
       "       1668030113, 1738359350, 1801183820, 1959144690, 2038680547,\n",
       "       2044997962, 2378935119, 2458001652, 2579882178, 2587333274,\n",
       "       2600415354, 2654030115, 2686716486, 2712142231, 2716752286,\n",
       "       2780786433, 2927087541, 2949041841, 2954449915, 3062433592,\n",
       "       3202540741, 3234906277, 3656415546, 3717692402, 3766097110,\n",
       "       3803269165, 3891541246, 3941795274, 3951559397, 3957174400,\n",
       "       3963646447, 3972127743, 3984495233, 4069496402, 4120364173,\n",
       "       4186807279, 4256040402, 4266935830])"
      ]
     },
     "execution_count": 16,
     "metadata": {},
     "output_type": "execute_result"
    }
   ],
   "source": [
    "#Проверим, есть ли пользователи, которые попали в обе группы\n",
    "duplicates_users = np.intersect1d(orders.query('group == \"A\"')['visitorId'].unique(), orders.query('group == \"B\"')['visitorId'].unique())\n",
    "duplicates_users"
   ]
  },
  {
   "cell_type": "code",
   "execution_count": 17,
   "metadata": {},
   "outputs": [],
   "source": [
    "#Удалим пользователей, которые попали в обе группы\n",
    "orders = orders[~orders['visitorId'].isin(duplicates_users)]"
   ]
  },
  {
   "cell_type": "code",
   "execution_count": 18,
   "metadata": {},
   "outputs": [
    {
     "data": {
      "text/plain": [
       "array([], dtype=int64)"
      ]
     },
     "execution_count": 18,
     "metadata": {},
     "output_type": "execute_result"
    }
   ],
   "source": [
    "#Проверяем\n",
    "np.intersect1d(orders.query('group == \"A\"')['visitorId'].unique(), orders.query('group == \"B\"')['visitorId'].unique())"
   ]
  },
  {
   "cell_type": "code",
   "execution_count": 19,
   "metadata": {},
   "outputs": [
    {
     "data": {
      "text/html": [
       "<div>\n",
       "<style scoped>\n",
       "    .dataframe tbody tr th:only-of-type {\n",
       "        vertical-align: middle;\n",
       "    }\n",
       "\n",
       "    .dataframe tbody tr th {\n",
       "        vertical-align: top;\n",
       "    }\n",
       "\n",
       "    .dataframe thead th {\n",
       "        text-align: right;\n",
       "    }\n",
       "</style>\n",
       "<table border=\"1\" class=\"dataframe\">\n",
       "  <thead>\n",
       "    <tr style=\"text-align: right;\">\n",
       "      <th></th>\n",
       "      <th>date</th>\n",
       "      <th>group</th>\n",
       "      <th>orders</th>\n",
       "      <th>buyers</th>\n",
       "      <th>revenue</th>\n",
       "      <th>visitors</th>\n",
       "    </tr>\n",
       "  </thead>\n",
       "  <tbody>\n",
       "    <tr>\n",
       "      <td>0</td>\n",
       "      <td>2019-08-01</td>\n",
       "      <td>A</td>\n",
       "      <td>23</td>\n",
       "      <td>19</td>\n",
       "      <td>142779</td>\n",
       "      <td>719</td>\n",
       "    </tr>\n",
       "    <tr>\n",
       "      <td>1</td>\n",
       "      <td>2019-08-01</td>\n",
       "      <td>B</td>\n",
       "      <td>17</td>\n",
       "      <td>17</td>\n",
       "      <td>59758</td>\n",
       "      <td>713</td>\n",
       "    </tr>\n",
       "    <tr>\n",
       "      <td>2</td>\n",
       "      <td>2019-08-02</td>\n",
       "      <td>A</td>\n",
       "      <td>42</td>\n",
       "      <td>36</td>\n",
       "      <td>234381</td>\n",
       "      <td>1338</td>\n",
       "    </tr>\n",
       "    <tr>\n",
       "      <td>3</td>\n",
       "      <td>2019-08-02</td>\n",
       "      <td>B</td>\n",
       "      <td>40</td>\n",
       "      <td>39</td>\n",
       "      <td>221801</td>\n",
       "      <td>1294</td>\n",
       "    </tr>\n",
       "    <tr>\n",
       "      <td>4</td>\n",
       "      <td>2019-08-03</td>\n",
       "      <td>A</td>\n",
       "      <td>66</td>\n",
       "      <td>60</td>\n",
       "      <td>346854</td>\n",
       "      <td>1845</td>\n",
       "    </tr>\n",
       "  </tbody>\n",
       "</table>\n",
       "</div>"
      ],
      "text/plain": [
       "        date group  orders  buyers  revenue  visitors\n",
       "0 2019-08-01     A      23      19   142779       719\n",
       "1 2019-08-01     B      17      17    59758       713\n",
       "2 2019-08-02     A      42      36   234381      1338\n",
       "3 2019-08-02     B      40      39   221801      1294\n",
       "4 2019-08-03     A      66      60   346854      1845"
      ]
     },
     "execution_count": 19,
     "metadata": {},
     "output_type": "execute_result"
    }
   ],
   "source": [
    "#Создадим массив уникальных пар значений дат и групп теста\n",
    "datesGroups = orders[['date','group']].drop_duplicates()\n",
    "\n",
    "#Получаем агрегированные кумулятивные по дням данные о заказах \n",
    "ordersAggregated = datesGroups.apply(lambda x: orders[np.logical_and(orders['date'] <= x['date'], orders['group'] == x['group'])]. \\\n",
    "                                     agg({'date' : 'max', \n",
    "                                          'group' : 'max', \n",
    "                                          'transactionId' : pd.Series.nunique, \n",
    "                                          'visitorId' : pd.Series.nunique, \n",
    "                                          'revenue' : 'sum'}), axis=1).sort_values(by=['date','group'])\n",
    "\n",
    "#Получаем агрегированные кумулятивные по дням данные о посетителях интернет-магазина \n",
    "visitorsAggregated = datesGroups.apply(lambda x: visitors[np.logical_and(visitors['date'] <= x['date'], visitors['group'] == x['group'])]. \\\n",
    "                                       agg({'date' : 'max', \n",
    "                                            'group' : 'max', \n",
    "                                            'visitors' : 'sum'}), axis=1).sort_values(by=['date','group'])\n",
    "\n",
    "#Объединим кумулятивные данные в одной таблице и присваиваем ее столбцам понятные названия\n",
    "cumulativeData = ordersAggregated.merge(visitorsAggregated, left_on=['date', 'group'], right_on=['date', 'group'])\n",
    "\n",
    "#Переименуем столбцы\n",
    "cumulativeData.columns = ['date', 'group', 'orders', 'buyers', 'revenue', 'visitors']\n",
    "\n",
    "cumulativeData.head(5)"
   ]
  },
  {
   "cell_type": "code",
   "execution_count": 20,
   "metadata": {},
   "outputs": [
    {
     "data": {
      "image/png": "[encoded data removed]",
      "text/plain": [
       "<Figure size 1080x360 with 1 Axes>"
      ]
     },
     "metadata": {
      "needs_background": "light"
     },
     "output_type": "display_data"
    }
   ],
   "source": [
    "# датафрейм с кумулятивным количеством заказов и кумулятивной выручкой по дням в группе А\n",
    "cumulativeRevenueA = cumulativeData[cumulativeData['group']=='A'][['date','revenue', 'orders']]\n",
    "# датафрейм с кумулятивным количеством заказов и кумулятивной выручкой по дням в группе B\n",
    "cumulativeRevenueB = cumulativeData[cumulativeData['group']=='B'][['date','revenue', 'orders']]\n",
    "\n",
    "from pandas.plotting import register_matplotlib_converters\n",
    "register_matplotlib_converters()\n",
    "\n",
    "plt.figure(figsize=(15,5))\n",
    "#Строим график выручки группы А\n",
    "plt.plot(cumulativeRevenueA['date'], cumulativeRevenueA['revenue'], label='Кум.выручка группы A')\n",
    "#Строим график выручки группы B\n",
    "plt.plot(cumulativeRevenueB['date'], cumulativeRevenueB['revenue'], label='Кум.выручка группы B')\n",
    "plt.title('График кумулятивной выручки по группам\\n  ')\n",
    "plt.xlabel('\\nДата')\n",
    "plt.ylabel('Выручка\\n')\n",
    "plt.grid()\n",
    "plt.legend() ;"
   ]
  },
  {
   "cell_type": "markdown",
   "metadata": {},
   "source": [
    "Наблюдается резкий скачек в графике у группы В, возможно имеют место аномально большое количество заказов или аномально высокий средний чек. Запомним этот момент 19.08.2019"
   ]
  },
  {
   "cell_type": "markdown",
   "metadata": {},
   "source": [
    "### Построим график кумулятивного среднего чека по группам.  \n",
    "Сделаем выводы и предположения."
   ]
  },
  {
   "cell_type": "markdown",
   "metadata": {},
   "source": [
    "Чтобы построить графики среднего кумулятивного чека по группам — разделим кумулятивную выручку на кумулятивное число заказов."
   ]
  },
  {
   "cell_type": "code",
   "execution_count": 21,
   "metadata": {},
   "outputs": [
    {
     "data": {
      "image/png": "[encoded data removed]",
      "text/plain": [
       "<Figure size 1080x360 with 1 Axes>"
      ]
     },
     "metadata": {
      "needs_background": "light"
     },
     "output_type": "display_data"
    }
   ],
   "source": [
    "plt.figure(figsize=(15,5))\n",
    "plt.grid()\n",
    "plt.plot(cumulativeRevenueA['date'], cumulativeRevenueA['revenue']/cumulativeRevenueA['orders'], label='A')\n",
    "plt.plot(cumulativeRevenueB['date'], cumulativeRevenueB['revenue']/cumulativeRevenueB['orders'], label='B')\n",
    "plt.title('График кумулятивного среднего чека по группам\\n  ')\n",
    "plt.xlabel('\\nДата')\n",
    "plt.ylabel('Сумма среднего чека\\n')\n",
    "plt.legend() ;"
   ]
  },
  {
   "cell_type": "markdown",
   "metadata": {},
   "source": [
    "Ком.значение среднего чека по сегментам нестабильно. Возможно имеются аномальные значения (выбросы), которые искажают общую картину."
   ]
  },
  {
   "cell_type": "markdown",
   "metadata": {},
   "source": [
    "### Построим график относительного изменения кумулятивного среднего чека группы B к группе A.  \n",
    "Сделаем выводы и предположения.\n"
   ]
  },
  {
   "cell_type": "code",
   "execution_count": 22,
   "metadata": {},
   "outputs": [
    {
     "data": {
      "image/png": "[encoded data removed]",
      "text/plain": [
       "<Figure size 1080x360 with 1 Axes>"
      ]
     },
     "metadata": {
      "needs_background": "light"
     },
     "output_type": "display_data"
    }
   ],
   "source": [
    "# собираем данные в одном датафрейме\n",
    "mergedCumulativeRevenue = cumulativeRevenueA.merge(cumulativeRevenueB, left_on='date', right_on='date', how='left', suffixes=['A', 'B'])\n",
    "\n",
    "# cтроим отношение средних чеков\n",
    "plt.figure(figsize=(15,5))\n",
    "plt.grid()\n",
    "plt.plot(mergedCumulativeRevenue['date'], (mergedCumulativeRevenue['revenueB']/mergedCumulativeRevenue['ordersB'])/(mergedCumulativeRevenue['revenueA']/mergedCumulativeRevenue['ordersA'])-1)\n",
    "plt.title('График относительного изменения кумулятивного среднего чека группы B к группе A\\n  ')\n",
    "plt.xlabel('\\nДата')\n",
    "plt.ylabel('Изменение среденего чека \\n')\n",
    "# добавляем ось X\n",
    "plt.axhline(y=0, color='black', linestyle='--') ;"
   ]
  },
  {
   "cell_type": "markdown",
   "metadata": {},
   "source": [
    "Глядя на график относительного различия в среднем чеке между группами, видим как сильно меняются значения в определенные даты. Веротяно, тогда и были совершены аномальные заказы."
   ]
  },
  {
   "cell_type": "markdown",
   "metadata": {},
   "source": [
    "### Построим график кумулятивной конверсии по группам.   \n",
    "Сделаем выводы и предположения."
   ]
  },
  {
   "cell_type": "code",
   "execution_count": 23,
   "metadata": {},
   "outputs": [
    {
     "data": {
      "text/plain": [
       "''"
      ]
     },
     "execution_count": 23,
     "metadata": {},
     "output_type": "execute_result"
    },
    {
     "data": {
      "image/png": "[encoded data removed]",
      "text/plain": [
       "<Figure size 1080x360 with 1 Axes>"
      ]
     },
     "metadata": {
      "needs_background": "light"
     },
     "output_type": "display_data"
    }
   ],
   "source": [
    "# считаем кумулятивную конверсию\n",
    "cumulativeData['conversion'] = cumulativeData['orders']/cumulativeData['visitors']\n",
    "\n",
    "# отделяем данные по группе A\n",
    "cumulativeDataA = cumulativeData[cumulativeData['group']=='A']\n",
    "\n",
    "# отделяем данные по группе B\n",
    "cumulativeDataB = cumulativeData[cumulativeData['group']=='B']\n",
    "\n",
    "# строим графики\n",
    "plt.figure(figsize=(15,5))\n",
    "plt.grid()\n",
    "plt.plot(cumulativeDataA['date'], cumulativeDataA['conversion'], label='A')\n",
    "plt.plot(cumulativeDataB['date'], cumulativeDataB['conversion'], label='B')\n",
    "plt.legend()\n",
    "plt.title('График кумулятивной конверсии по группам\\n  ')\n",
    "plt.xlabel('\\nДата')\n",
    "plt.ylabel('Конверсия\\n')\n",
    "# задаем масштаб осей\n",
    "plt.axis([dt.datetime(2019, 8, 1), dt.datetime(2019, 9, 1), 0, 0.05])\n",
    ";"
   ]
  },
  {
   "cell_type": "markdown",
   "metadata": {},
   "source": [
    "Сначала сегмент А имел большую конверсию, но чуть позже сегмент В выровнялся и зафиксировался больше значения сегмента А. "
   ]
  },
  {
   "cell_type": "markdown",
   "metadata": {},
   "source": [
    "### Построим график относительного изменения кумулятивной конверсии группы B к группе A.  \n",
    "Сделаем выводы и предположения.\n"
   ]
  },
  {
   "cell_type": "code",
   "execution_count": 24,
   "metadata": {},
   "outputs": [
    {
     "data": {
      "text/plain": [
       "''"
      ]
     },
     "execution_count": 24,
     "metadata": {},
     "output_type": "execute_result"
    },
    {
     "data": {
      "image/png": "[encoded data removed]",
      "text/plain": [
       "<Figure size 1080x360 with 1 Axes>"
      ]
     },
     "metadata": {
      "needs_background": "light"
     },
     "output_type": "display_data"
    }
   ],
   "source": [
    "mergedCumulativeConversions = cumulativeDataA[['date','conversion']].merge(cumulativeDataB[['date','conversion']], left_on='date', right_on='date', how='left', suffixes=['A', 'B'])\n",
    "plt.figure(figsize=(15,5))\n",
    "plt.grid()\n",
    "plt.plot(mergedCumulativeConversions['date'], mergedCumulativeConversions['conversionB']/mergedCumulativeConversions['conversionA']-1, label=\"Относительный прирост конверсии группы B относительно группы A\")\n",
    "plt.legend()\n",
    "\n",
    "plt.axhline(y=0, color='black', linestyle='--')\n",
    "plt.axhline(y=0.2, color='grey', linestyle='--')\n",
    "plt.axis([\"2019-08-01\", '2019-09-01', -0.4, 0.4])\n",
    "plt.title('График относительного изменения кумулятивной конверсии группы B к группе A\\n  ')\n",
    "plt.xlabel('\\nДата')\n",
    "plt.ylabel('Относительне изменение конверсии\\n')\n",
    ";"
   ]
  },
  {
   "cell_type": "markdown",
   "metadata": {},
   "source": [
    "Почти с самого начала группа В лидирует по конверсии. Приняла стабильные +15% относительно группы А."
   ]
  },
  {
   "cell_type": "markdown",
   "metadata": {},
   "source": [
    "### Построим точечный график количества заказов по пользователям.   \n",
    "Сделаем выводы и предположения.\n"
   ]
  },
  {
   "cell_type": "code",
   "execution_count": 25,
   "metadata": {},
   "outputs": [
    {
     "data": {
      "text/plain": [
       "''"
      ]
     },
     "execution_count": 25,
     "metadata": {},
     "output_type": "execute_result"
    },
    {
     "data": {
      "image/png": "[encoded data removed]",
      "text/plain": [
       "<Figure size 1080x360 with 1 Axes>"
      ]
     },
     "metadata": {
      "needs_background": "light"
     },
     "output_type": "display_data"
    }
   ],
   "source": [
    "ordersByUsers = orders.drop(['group', 'revenue', 'date'], axis=1).groupby('visitorId', as_index=False). \\\n",
    "                                                                        agg({'transactionId' : pd.Series.nunique})\n",
    "\n",
    "ordersByUsers.columns = ['user_id','orders']\n",
    "\n",
    "ordersByUsers.sort_values(by='orders',ascending=False).head(10)\n",
    "\n",
    "# серия из чисел от 0 до количества наблюдений в ordersByUsers\n",
    "plt.figure(figsize=(15,5))\n",
    "plt.grid()\n",
    "plt.title('График количества заказов по пользователям\\n  ')\n",
    "plt.xlabel('\\nКол-во пользователей')\n",
    "plt.ylabel('Кол-во заказов\\n')\n",
    "x_values = pd.Series(range(0, len(ordersByUsers)))\n",
    "plt.scatter(x_values, ordersByUsers['orders']) \n",
    ";"
   ]
  },
  {
   "cell_type": "markdown",
   "metadata": {},
   "source": [
    "Больше всего пользователей совершивших 1 заказ.  \n",
    "Совершивших 2 заказа значительно меньше. Совершивших 3 заказа единицы, возможно они будут являться выбросами, стоит посчитать выборочные перцентили."
   ]
  },
  {
   "cell_type": "markdown",
   "metadata": {},
   "source": [
    "### Посчитаем 95-й и 99-й перцентили количества заказов на пользователя.  \n",
    "Выберем границу для определения аномальных пользователей.\n"
   ]
  },
  {
   "cell_type": "code",
   "execution_count": 26,
   "metadata": {},
   "outputs": [
    {
     "name": "stdout",
     "output_type": "stream",
     "text": [
      "[1. 2.]\n"
     ]
    }
   ],
   "source": [
    "# Метод np.percentile('column', [percentile1, percentile2]) находит перцентили.\n",
    "print(np.percentile(ordersByUsers['orders'], [95, 99])) "
   ]
  },
  {
   "cell_type": "markdown",
   "metadata": {},
   "source": [
    "95% пользователей овершают не больше 1 заказа, 99% совершают 2 заказа, аномальным будет всё, что и более этого.\n"
   ]
  },
  {
   "cell_type": "markdown",
   "metadata": {},
   "source": [
    "### Построим точечный график стоимостей заказов.   \n",
    "Сделаем выводы и предположения.\n"
   ]
  },
  {
   "cell_type": "code",
   "execution_count": 27,
   "metadata": {
    "scrolled": true
   },
   "outputs": [
    {
     "data": {
      "image/png": "[encoded data removed]",
      "text/plain": [
       "<Figure size 1080x360 with 1 Axes>"
      ]
     },
     "metadata": {
      "needs_background": "light"
     },
     "output_type": "display_data"
    }
   ],
   "source": [
    "x_values = pd.Series(range(0,len(orders['revenue'])))\n",
    "plt.figure(figsize=(15,5))\n",
    "plt.grid()\n",
    "plt.title('График стоимостей заказов\\n ')\n",
    "plt.xlabel('\\nКол-во пользователей')\n",
    "plt.ylabel('Стоимость заказа\\n')\n",
    "plt.scatter(x_values, orders['revenue'], alpha=0.3);"
   ]
  },
  {
   "cell_type": "markdown",
   "metadata": {},
   "source": [
    "График не очень нагляный из-за наличия двух аномальных значений.  \n",
    "Посмотрим поближе, для это уберем очевидные выбросы с 'revenue' большим 200000"
   ]
  },
  {
   "cell_type": "code",
   "execution_count": 28,
   "metadata": {
    "scrolled": true
   },
   "outputs": [
    {
     "data": {
      "text/plain": [
       "743       67990\n",
       "744       86620\n",
       "1136      92550\n",
       "1196     202740\n",
       "425     1294500\n",
       "Name: revenue, dtype: int64"
      ]
     },
     "execution_count": 28,
     "metadata": {},
     "output_type": "execute_result"
    }
   ],
   "source": [
    "#Посмотрим точные суммы аномальных заказов.\n",
    "orders['revenue'].sort_values().tail()"
   ]
  },
  {
   "cell_type": "markdown",
   "metadata": {},
   "source": [
    "Один аномальный заказ на сумму 1294500, второй на 202740."
   ]
  },
  {
   "cell_type": "code",
   "execution_count": 29,
   "metadata": {},
   "outputs": [
    {
     "data": {
      "image/png": "[encoded data removed]",
      "text/plain": [
       "<Figure size 1080x360 with 1 Axes>"
      ]
     },
     "metadata": {
      "needs_background": "light"
     },
     "output_type": "display_data"
    }
   ],
   "source": [
    "norm_orders = orders[orders['revenue']<=200000]['revenue']\n",
    "xn_values = pd.Series(range(0,len(norm_orders)))\n",
    "plt.figure(figsize=(15,5))\n",
    "plt.grid()\n",
    "plt.title('График стоимостей заказов')\n",
    "plt.xlabel('\\nКол-во пользователей')\n",
    "plt.ylabel('Стоимость заказа\\n')\n",
    "plt.scatter(xn_values, norm_orders, alpha=0.5);"
   ]
  },
  {
   "cell_type": "markdown",
   "metadata": {},
   "source": [
    "Большая часть всех заказов не дороже 20000. Более точное распределение посмотрим с помощью перцентилей."
   ]
  },
  {
   "cell_type": "markdown",
   "metadata": {},
   "source": [
    "### Посчитаем 95-й и 99-й перцентили стоимости заказов.  \n",
    "Выберем границу для определения аномальных заказов.\n"
   ]
  },
  {
   "cell_type": "code",
   "execution_count": 30,
   "metadata": {},
   "outputs": [
    {
     "data": {
      "text/plain": [
       "array([26785., 53904.])"
      ]
     },
     "execution_count": 30,
     "metadata": {},
     "output_type": "execute_result"
    }
   ],
   "source": [
    "np.percentile(orders['revenue'], [95, 99])"
   ]
  },
  {
   "cell_type": "markdown",
   "metadata": {},
   "source": [
    "Не более чем у 95% заказов чек выше 26785 рублей, и не более чем у 1% дороже 53904 рублей.  \n",
    "За границу для определения аномальных заказов примем значение 53904."
   ]
  },
  {
   "cell_type": "markdown",
   "metadata": {},
   "source": [
    "### Посчитаем статистическую значимость различий в конверсии между группами по «сырым» данным.    \n",
    "Сделаем выводы и предположения.\n"
   ]
  },
  {
   "cell_type": "markdown",
   "metadata": {},
   "source": [
    "Начнём с подготовки данных.  \n",
    "Соберем в общую таблицу все данные по заказам и визитам, добавив кумулятивные показатели.  "
   ]
  },
  {
   "cell_type": "markdown",
   "metadata": {},
   "source": []
  },
  {
   "cell_type": "code",
   "execution_count": 31,
   "metadata": {},
   "outputs": [
    {
     "data": {
      "text/html": [
       "<div>\n",
       "<style scoped>\n",
       "    .dataframe tbody tr th:only-of-type {\n",
       "        vertical-align: middle;\n",
       "    }\n",
       "\n",
       "    .dataframe tbody tr th {\n",
       "        vertical-align: top;\n",
       "    }\n",
       "\n",
       "    .dataframe thead th {\n",
       "        text-align: right;\n",
       "    }\n",
       "</style>\n",
       "<table border=\"1\" class=\"dataframe\">\n",
       "  <thead>\n",
       "    <tr style=\"text-align: right;\">\n",
       "      <th></th>\n",
       "      <th>transactionId</th>\n",
       "      <th>visitorId</th>\n",
       "      <th>date</th>\n",
       "      <th>revenue</th>\n",
       "      <th>group</th>\n",
       "    </tr>\n",
       "  </thead>\n",
       "  <tbody>\n",
       "    <tr>\n",
       "      <td>657</td>\n",
       "      <td>2081053731</td>\n",
       "      <td>3572819427</td>\n",
       "      <td>2019-08-26</td>\n",
       "      <td>7024</td>\n",
       "      <td>A</td>\n",
       "    </tr>\n",
       "  </tbody>\n",
       "</table>\n",
       "</div>"
      ],
      "text/plain": [
       "     transactionId   visitorId       date  revenue group\n",
       "657     2081053731  3572819427 2019-08-26     7024     A"
      ]
     },
     "execution_count": 31,
     "metadata": {},
     "output_type": "execute_result"
    }
   ],
   "source": [
    "orders.sample()"
   ]
  },
  {
   "cell_type": "code",
   "execution_count": 32,
   "metadata": {
    "scrolled": true
   },
   "outputs": [
    {
     "data": {
      "text/html": [
       "<div>\n",
       "<style scoped>\n",
       "    .dataframe tbody tr th:only-of-type {\n",
       "        vertical-align: middle;\n",
       "    }\n",
       "\n",
       "    .dataframe tbody tr th {\n",
       "        vertical-align: top;\n",
       "    }\n",
       "\n",
       "    .dataframe thead th {\n",
       "        text-align: right;\n",
       "    }\n",
       "</style>\n",
       "<table border=\"1\" class=\"dataframe\">\n",
       "  <thead>\n",
       "    <tr style=\"text-align: right;\">\n",
       "      <th></th>\n",
       "      <th>date</th>\n",
       "      <th>group</th>\n",
       "      <th>visitors</th>\n",
       "    </tr>\n",
       "  </thead>\n",
       "  <tbody>\n",
       "    <tr>\n",
       "      <td>54</td>\n",
       "      <td>2019-08-24</td>\n",
       "      <td>B</td>\n",
       "      <td>378</td>\n",
       "    </tr>\n",
       "  </tbody>\n",
       "</table>\n",
       "</div>"
      ],
      "text/plain": [
       "         date group  visitors\n",
       "54 2019-08-24     B       378"
      ]
     },
     "execution_count": 32,
     "metadata": {},
     "output_type": "execute_result"
    }
   ],
   "source": [
    "visitors.sample()"
   ]
  },
  {
   "cell_type": "code",
   "execution_count": 33,
   "metadata": {},
   "outputs": [],
   "source": [
    "visitorsADaily = visitors[visitors['group']=='A'][['date', 'visitors']]\n",
    "visitorsADaily.columns = ['date', 'visitorsPerDateA']\n",
    "\n",
    "visitorsACummulative = visitorsADaily.apply(lambda x: visitorsADaily[visitorsADaily['date'] <= x['date']]. \\\n",
    "                                            agg({'date' : 'max', 'visitorsPerDateA' : 'sum'}), axis=1)\n",
    "visitorsACummulative.columns = ['date', 'visitorsCummulativeA']\n",
    "\n",
    "visitorsBDaily = visitors[visitors['group']=='B'][['date', 'visitors']]\n",
    "visitorsBDaily.columns = ['date', 'visitorsPerDateB']\n",
    "\n",
    "visitorsBCummulative = visitorsBDaily.apply(lambda x: visitorsBDaily[visitorsBDaily['date'] <= x['date']]. \\\n",
    "                                            agg({'date' : 'max', 'visitorsPerDateB' : 'sum'}), axis=1)\n",
    "visitorsBCummulative.columns = ['date', 'visitorsCummulativeB']"
   ]
  },
  {
   "cell_type": "code",
   "execution_count": 34,
   "metadata": {},
   "outputs": [],
   "source": [
    "ordersADaily = orders[orders['group']=='A'][['date', 'transactionId', 'visitorId', 'revenue']]\\\n",
    "    .groupby('date', as_index=False)\\\n",
    "    .agg({'transactionId' : pd.Series.nunique, 'revenue' : 'sum'})\n",
    "ordersADaily.columns = ['date', 'ordersPerDateA', 'revenuePerDateA']\n",
    "\n",
    "ordersACummulative = ordersADaily.apply(\n",
    "    lambda x: \\\n",
    "        ordersADaily[ordersADaily['date'] <= x['date']]\\\n",
    "            .agg({\n",
    "                'date' : 'max',\n",
    "                'ordersPerDateA' : 'sum',\n",
    "                'revenuePerDateA' : 'sum'}), axis=1).sort_values(by=['date'])\n",
    "ordersACummulative.columns = ['date', 'ordersCummulativeA', 'revenueCummulativeA']\n",
    "\n",
    "ordersBDaily = orders[orders['group']=='B'][['date', 'transactionId', 'visitorId', 'revenue']]\\\n",
    "    .groupby('date', as_index=False)\\\n",
    "    .agg({'transactionId' : pd.Series.nunique, 'revenue' : 'sum'})\n",
    "ordersBDaily.columns = ['date', 'ordersPerDateB', 'revenuePerDateB']\n",
    "\n",
    "ordersBCummulative = ordersBDaily.apply(\n",
    "    lambda x: \\\n",
    "        ordersBDaily[ordersBDaily['date'] <= x['date']]\\\n",
    "            .agg({\n",
    "                'date' : 'max',\n",
    "                'ordersPerDateB' : 'sum',\n",
    "                'revenuePerDateB' : 'sum'}), axis=1).sort_values(by=['date'])\n",
    "ordersBCummulative.columns = ['date', 'ordersCummulativeB', 'revenueCummulativeB']"
   ]
  },
  {
   "cell_type": "code",
   "execution_count": 35,
   "metadata": {},
   "outputs": [
    {
     "data": {
      "text/html": [
       "<div>\n",
       "<style scoped>\n",
       "    .dataframe tbody tr th:only-of-type {\n",
       "        vertical-align: middle;\n",
       "    }\n",
       "\n",
       "    .dataframe tbody tr th {\n",
       "        vertical-align: top;\n",
       "    }\n",
       "\n",
       "    .dataframe thead th {\n",
       "        text-align: right;\n",
       "    }\n",
       "</style>\n",
       "<table border=\"1\" class=\"dataframe\">\n",
       "  <thead>\n",
       "    <tr style=\"text-align: right;\">\n",
       "      <th></th>\n",
       "      <th>date</th>\n",
       "      <th>ordersPerDateA</th>\n",
       "      <th>revenuePerDateA</th>\n",
       "      <th>ordersPerDateB</th>\n",
       "      <th>revenuePerDateB</th>\n",
       "      <th>ordersCummulativeA</th>\n",
       "      <th>revenueCummulativeA</th>\n",
       "      <th>ordersCummulativeB</th>\n",
       "      <th>revenueCummulativeB</th>\n",
       "      <th>visitorsPerDateA</th>\n",
       "      <th>visitorsPerDateB</th>\n",
       "      <th>visitorsCummulativeA</th>\n",
       "      <th>visitorsCummulativeB</th>\n",
       "    </tr>\n",
       "  </thead>\n",
       "  <tbody>\n",
       "    <tr>\n",
       "      <td>0</td>\n",
       "      <td>2019-08-01</td>\n",
       "      <td>23</td>\n",
       "      <td>142779</td>\n",
       "      <td>17</td>\n",
       "      <td>59758</td>\n",
       "      <td>23</td>\n",
       "      <td>142779</td>\n",
       "      <td>17</td>\n",
       "      <td>59758</td>\n",
       "      <td>719</td>\n",
       "      <td>713</td>\n",
       "      <td>719</td>\n",
       "      <td>713</td>\n",
       "    </tr>\n",
       "    <tr>\n",
       "      <td>1</td>\n",
       "      <td>2019-08-02</td>\n",
       "      <td>19</td>\n",
       "      <td>91602</td>\n",
       "      <td>23</td>\n",
       "      <td>162043</td>\n",
       "      <td>42</td>\n",
       "      <td>234381</td>\n",
       "      <td>40</td>\n",
       "      <td>221801</td>\n",
       "      <td>619</td>\n",
       "      <td>581</td>\n",
       "      <td>1338</td>\n",
       "      <td>1294</td>\n",
       "    </tr>\n",
       "    <tr>\n",
       "      <td>2</td>\n",
       "      <td>2019-08-03</td>\n",
       "      <td>24</td>\n",
       "      <td>112473</td>\n",
       "      <td>14</td>\n",
       "      <td>67049</td>\n",
       "      <td>66</td>\n",
       "      <td>346854</td>\n",
       "      <td>54</td>\n",
       "      <td>288850</td>\n",
       "      <td>507</td>\n",
       "      <td>509</td>\n",
       "      <td>1845</td>\n",
       "      <td>1803</td>\n",
       "    </tr>\n",
       "    <tr>\n",
       "      <td>3</td>\n",
       "      <td>2019-08-04</td>\n",
       "      <td>11</td>\n",
       "      <td>41176</td>\n",
       "      <td>14</td>\n",
       "      <td>96890</td>\n",
       "      <td>77</td>\n",
       "      <td>388030</td>\n",
       "      <td>68</td>\n",
       "      <td>385740</td>\n",
       "      <td>717</td>\n",
       "      <td>770</td>\n",
       "      <td>2562</td>\n",
       "      <td>2573</td>\n",
       "    </tr>\n",
       "    <tr>\n",
       "      <td>4</td>\n",
       "      <td>2019-08-05</td>\n",
       "      <td>22</td>\n",
       "      <td>86383</td>\n",
       "      <td>21</td>\n",
       "      <td>89908</td>\n",
       "      <td>99</td>\n",
       "      <td>474413</td>\n",
       "      <td>89</td>\n",
       "      <td>475648</td>\n",
       "      <td>756</td>\n",
       "      <td>707</td>\n",
       "      <td>3318</td>\n",
       "      <td>3280</td>\n",
       "    </tr>\n",
       "  </tbody>\n",
       "</table>\n",
       "</div>"
      ],
      "text/plain": [
       "        date  ordersPerDateA  revenuePerDateA  ordersPerDateB  \\\n",
       "0 2019-08-01              23           142779              17   \n",
       "1 2019-08-02              19            91602              23   \n",
       "2 2019-08-03              24           112473              14   \n",
       "3 2019-08-04              11            41176              14   \n",
       "4 2019-08-05              22            86383              21   \n",
       "\n",
       "   revenuePerDateB  ordersCummulativeA  revenueCummulativeA  \\\n",
       "0            59758                  23               142779   \n",
       "1           162043                  42               234381   \n",
       "2            67049                  66               346854   \n",
       "3            96890                  77               388030   \n",
       "4            89908                  99               474413   \n",
       "\n",
       "   ordersCummulativeB  revenueCummulativeB  visitorsPerDateA  \\\n",
       "0                  17                59758               719   \n",
       "1                  40               221801               619   \n",
       "2                  54               288850               507   \n",
       "3                  68               385740               717   \n",
       "4                  89               475648               756   \n",
       "\n",
       "   visitorsPerDateB  visitorsCummulativeA  visitorsCummulativeB  \n",
       "0               713                   719                   713  \n",
       "1               581                  1338                  1294  \n",
       "2               509                  1845                  1803  \n",
       "3               770                  2562                  2573  \n",
       "4               707                  3318                  3280  "
      ]
     },
     "execution_count": 35,
     "metadata": {},
     "output_type": "execute_result"
    }
   ],
   "source": [
    "data = ordersADaily.merge(ordersBDaily, left_on='date', right_on='date', how='left')\\\n",
    "    .merge(ordersACummulative, left_on='date', right_on='date', how='left')\\\n",
    "    .merge(ordersBCummulative, left_on='date', right_on='date', how='left')\\\n",
    "    .merge(visitorsADaily, left_on='date', right_on='date', how='left')\\\n",
    "    .merge(visitorsBDaily, left_on='date', right_on='date', how='left')\\\n",
    "    .merge(visitorsACummulative, left_on='date', right_on='date', how='left')\\\n",
    "    .merge(visitorsBCummulative, left_on='date', right_on='date', how='left')\n",
    "data.head()"
   ]
  },
  {
   "cell_type": "markdown",
   "metadata": {},
   "source": [
    "Теперь мы можем посчитать статистическую значимость различия в конверсии между группами.  \n",
    "Создадим переменные ordersByUsersA и ordersByUsersB со столбцами ['userId', 'orders']. В них для пользователей, которые заказывали хотя бы 1 раз, укажем число совершённых заказов."
   ]
  },
  {
   "cell_type": "code",
   "execution_count": 36,
   "metadata": {},
   "outputs": [],
   "source": [
    "ordersByUsersA = orders[orders['group']=='A'].groupby('visitorId', as_index=False).agg({'transactionId' : pd.Series.nunique})\n",
    "ordersByUsersA.columns = ['userId', 'orders']\n",
    "\n",
    "ordersByUsersB = orders[orders['group']=='B'].groupby('visitorId', as_index=False).agg({'transactionId' : pd.Series.nunique})\n",
    "ordersByUsersB.columns = ['userId', 'orders']"
   ]
  },
  {
   "cell_type": "markdown",
   "metadata": {},
   "source": [
    "Объявим переменные sampleA и sampleB, в которых пользователям из разных групп будет соответствовать количество заказов.  \n",
    "Тем, кто ничего не заказал, будут соответствовать нули. Это нужно, чтобы подготовить выборки к проверке критерием Манна-Уитни"
   ]
  },
  {
   "cell_type": "code",
   "execution_count": 37,
   "metadata": {},
   "outputs": [],
   "source": [
    "sampleA = pd.concat([ordersByUsersA['orders'],pd.Series(0, index=np.arange(data['visitorsPerDateA'].sum() - len(ordersByUsersA['orders'])), name='orders')],axis=0)\n",
    "\n",
    "sampleB = pd.concat([ordersByUsersB['orders'],pd.Series(0, index=np.arange(data['visitorsPerDateB'].sum() - len(ordersByUsersB['orders'])), name='orders')],axis=0)\n"
   ]
  },
  {
   "cell_type": "markdown",
   "metadata": {},
   "source": [
    "**За нулевую гипотезу H0 примем** - статистически значимых различий в конверсиях между группами нет.  \n",
    "**Тогда альтернативная гипотеза Н1** - статистически значимые различия есть."
   ]
  },
  {
   "cell_type": "code",
   "execution_count": 38,
   "metadata": {},
   "outputs": [
    {
     "data": {
      "text/plain": [
       "'alpha = 0.05'"
      ]
     },
     "metadata": {},
     "output_type": "display_data"
    },
    {
     "data": {
      "text/plain": [
       "'p-value = 0.011'"
      ]
     },
     "metadata": {},
     "output_type": "display_data"
    },
    {
     "data": {
      "text/plain": [
       "'относительный прирост конверсии группы B = 0.160'"
      ]
     },
     "metadata": {},
     "output_type": "display_data"
    }
   ],
   "source": [
    "#Применим критерий и отформатируем p-value, округлив его до трёх знаков после запятой\n",
    "display(\"alpha = 0.05\")\n",
    "display(\"p-value = {0:.3f}\".format(st.mannwhitneyu(sampleA, sampleB, alternative = 'two-sided')[1]))\n",
    "display(\"относительный прирост конверсии группы B = {0:.3f}\".format(sampleB.mean()/sampleA.mean()-1)) "
   ]
  },
  {
   "cell_type": "markdown",
   "metadata": {},
   "source": [
    "p-value = 0.011 меньше 0.05. Поэтому нулевую гипотезу о том, что статистически значимых различий в конверсии между группами нет, - отвергаем.  \n",
    "Это значит по «сырым» данным в конверсии между группами A и B есть статистически значимые различия. \n",
    "А относительный прирост группы В к А равен 16% "
   ]
  },
  {
   "cell_type": "markdown",
   "metadata": {},
   "source": [
    "### Посчитаем статистическую значимость различий в среднем чеке заказа между группами по «сырым» данным. \n",
    "Сделаем выводы и предположения.\n"
   ]
  },
  {
   "cell_type": "markdown",
   "metadata": {},
   "source": [
    "**За нулевую гипотезу H0 примем** - статистически значимых различий в среднемчеке между группами нет.  \n",
    "**Тогда альтернативная гипотеза Н1** - статистически значимые различия есть."
   ]
  },
  {
   "cell_type": "code",
   "execution_count": 39,
   "metadata": {},
   "outputs": [
    {
     "data": {
      "text/plain": [
       "'alpha = 0.05'"
      ]
     },
     "metadata": {},
     "output_type": "display_data"
    },
    {
     "data": {
      "text/plain": [
       "'p-value = 0.829'"
      ]
     },
     "metadata": {},
     "output_type": "display_data"
    },
    {
     "data": {
      "text/plain": [
       "\"Относительный показатель 'B' и 'A' = 0.287\""
      ]
     },
     "metadata": {},
     "output_type": "display_data"
    }
   ],
   "source": [
    "display(\"alpha = 0.05\")\n",
    "display(\"p-value = {0:.3f}\".format(st.mannwhitneyu(orders[orders['group']=='A']['revenue'], orders[orders['group']=='B']['revenue'], alternative = 'two-sided')[1]))\n",
    "display(\"Относительный показатель 'B' и 'A' = {0:.3f}\".format(orders[orders['group']=='B']['revenue'].mean()/orders[orders['group']=='A']['revenue'].mean()-1)) "
   ]
  },
  {
   "cell_type": "markdown",
   "metadata": {},
   "source": [
    "p-value = 0.829 значительно больше 0.05, поэтому можно считать, что значимых различий в среднем чеке между группами нет. По \"сырым\" данным средние чеки похожи. \n",
    "При этом средний чек группы B значительно выше среднего чека группы A (почти на 29%)"
   ]
  },
  {
   "cell_type": "markdown",
   "metadata": {},
   "source": [
    "### Посчитаем статистическую значимость различий в конверсии между группами по «очищенным» данным. \n",
    "Сделаем выводы и предположения.\n"
   ]
  },
  {
   "cell_type": "markdown",
   "metadata": {},
   "source": [
    "Приступаем к подготовке очищенных от аномалий данных.  \n",
    "В предыдущих расчётах мы приняли за аномальных пользователей тех, кто: \n",
    "- совершил 3 и больше заказов\n",
    "- совершил заказ дороже 53904 рублей.  \n",
    "Сделаем срезы пользователей:\n",
    "- с числом заказов больше 2 — usersWithManyOrders\n",
    "- совершивших заказы дороже 53904 — usersWithExpensiveOrders.  \n",
    "Объединим их в таблицу abnormalUsers. \n",
    "Посмотрим количество аномальных пользователей методом shape()"
   ]
  },
  {
   "cell_type": "code",
   "execution_count": 40,
   "metadata": {},
   "outputs": [
    {
     "data": {
      "text/plain": [
       "1099    148427295\n",
       "33      249864742\n",
       "58      611059232\n",
       "949     887908475\n",
       "744     888512513\n",
       "dtype: int64"
      ]
     },
     "metadata": {},
     "output_type": "display_data"
    },
    {
     "name": "stdout",
     "output_type": "stream",
     "text": [
      "Всего аномальных пользователей = 16\n"
     ]
    }
   ],
   "source": [
    "usersWithManyOrders = pd.concat([ordersByUsersA[ordersByUsersA['orders'] > 2]['userId'], ordersByUsersB[ordersByUsersB['orders'] > 2]['userId']], axis = 0)\n",
    "usersWithExpensiveOrders = orders[orders['revenue'] > 53904]['visitorId']\n",
    "abnormalUsers = pd.concat([usersWithManyOrders, usersWithExpensiveOrders], axis = 0).drop_duplicates().sort_values()\n",
    "display(abnormalUsers.head(5))\n",
    "print(\"Всего аномальных пользователей =\" ,len(abnormalUsers)) "
   ]
  },
  {
   "cell_type": "markdown",
   "metadata": {},
   "source": [
    "Всего 16 аномальных пользователей. Не так уж и много. Посмотрим, как изменятся расчеты без их участия."
   ]
  },
  {
   "cell_type": "code",
   "execution_count": 41,
   "metadata": {},
   "outputs": [],
   "source": [
    "sampleAFiltered = pd.concat([ordersByUsersA[np.logical_not(ordersByUsersA['userId'].isin(abnormalUsers))]['orders'], \\\n",
    "                             pd.Series(0, index=np.arange(data['visitorsPerDateA'].sum() - len(ordersByUsersA['orders'])), \\\n",
    "                                       name='orders')],axis=0)\n",
    "\n",
    "sampleBFiltered = pd.concat([ordersByUsersB[np.logical_not(ordersByUsersB['userId'].isin(abnormalUsers))]['orders'], \\\n",
    "                             pd.Series(0, index=np.arange(data['visitorsPerDateB'].sum() - len(ordersByUsersB['orders'])), \\\n",
    "                                       name='orders')],axis=0) "
   ]
  },
  {
   "cell_type": "markdown",
   "metadata": {},
   "source": [
    "**За нулевую гипотезу H0 примем** - статистически значимых различий в конверсиях между группами нет.  \n",
    "**Тогда альтернативная гипотеза Н1** - статистически значимые различия есть."
   ]
  },
  {
   "cell_type": "code",
   "execution_count": 42,
   "metadata": {},
   "outputs": [
    {
     "name": "stdout",
     "output_type": "stream",
     "text": [
      "alpha = 0.05\n",
      "p-value = 0.007\n",
      "Относительный показатель 'B' и 'A' = 0.189\n"
     ]
    }
   ],
   "source": [
    "#Применим статистический критерий Манна-Уитни к полученным выборкам\n",
    "print(\"alpha =\",0.05)\n",
    "print(\"p-value = {0:.3f}\".format(st.mannwhitneyu(sampleAFiltered, sampleBFiltered, alternative = 'two-sided')[1]))\n",
    "print(\"Относительный показатель 'B' и 'A' = {0:.3f}\".format(sampleBFiltered.mean()/sampleAFiltered.mean()-1)) "
   ]
  },
  {
   "cell_type": "markdown",
   "metadata": {},
   "source": [
    "p-value = 0.007 меньше 0.05. Поэтому, нулевую гипотезу о том, что статистически значимых различий в конверсии между группами нет, - отвергаем. \n",
    "Это значит: и по «очищенным» данным в конверсии групп A и B есть статистически значимые различия. А относительный выигрыш группы \"B\" над \"A\" равен почти 19% (выше, чем с «сырыми» данными - 16%) "
   ]
  },
  {
   "cell_type": "markdown",
   "metadata": {},
   "source": [
    "### Посчитаем статистическую значимость различий в среднем чеке заказа между группами по «очищенным» данным.  \n",
    "Сделаем выводы и предположения.\n"
   ]
  },
  {
   "cell_type": "markdown",
   "metadata": {},
   "source": [
    "Выведем p-value для сравнения средних чеков между очищенными группами.\n",
    "\n",
    "**За нулевую гипотезу H0 примем:** \"статистически значимых различий в средних чеках между группами нет\".  \n",
    "**Тогда альтернативная гипотеза Н1** - статистически значимые различия есть."
   ]
  },
  {
   "cell_type": "code",
   "execution_count": 43,
   "metadata": {},
   "outputs": [
    {
     "name": "stdout",
     "output_type": "stream",
     "text": [
      "alpha = 0.05\n",
      "p-value = 0.788\n",
      "Относительный показатель В и А = -0.032\n"
     ]
    }
   ],
   "source": [
    "print(\"alpha =\",0.05)\n",
    "print(\"p-value = {0:.3f}\".format(st.mannwhitneyu(\n",
    "    orders[np.logical_and(\n",
    "        orders['group']=='A',\n",
    "        np.logical_not(orders['visitorId'].isin(abnormalUsers)))]['revenue'],\n",
    "    orders[np.logical_and(\n",
    "        orders['group']=='B',\n",
    "        np.logical_not(orders['visitorId'].isin(abnormalUsers)))]['revenue'], alternative = 'two-sided')[1]))\n",
    "\n",
    "print(\"Относительный показатель В и А = {0:.3f}\".format(\n",
    "    orders[np.logical_and(orders['group']=='B',np.logical_not(orders['visitorId'].isin(abnormalUsers)))]['revenue'].mean()/\n",
    "    orders[np.logical_and(\n",
    "        orders['group']=='A',\n",
    "        np.logical_not(orders['visitorId'].isin(abnormalUsers)))]['revenue'].mean() - 1)) "
   ]
  },
  {
   "cell_type": "markdown",
   "metadata": {},
   "source": [
    "P-value = 0.788, значительно больше 0.05. Поэтому можем считать, что в среднем чеке нет различий (как и с \"сырыми\" данными). \n",
    "А вот средний чек группы B оказался незначительно (на 3%) ниже среднего чека группы A, в то время как по \"сырым\" данным, он был больше почти на ~29%. \n",
    "Вот так ощутимо повлияли на результаты наши аномальные заказы с большими суммами."
   ]
  },
  {
   "cell_type": "markdown",
   "metadata": {},
   "source": [
    "### Примите решение по результатам теста и объясните его. "
   ]
  },
  {
   "cell_type": "markdown",
   "metadata": {},
   "source": [
    "Варианты решений:  \n",
    "1. Остановить тест, зафиксировать победу одной из групп. \n",
    "2. Остановить тест, зафиксировать отсутствие различий между группами. \n",
    "3. Продолжить тест.\n"
   ]
  },
  {
   "cell_type": "markdown",
   "metadata": {},
   "source": [
    "Мы выяснили, что у группы В конверсии выше на 19% по \"очищенным\" данным и на 16% по \"сырым\", а средние чеки групп по \"очищенным данным\" примерно одинаковые.  \n",
    "\n",
    "Основываясь на результатах проведенного А/В теста, рекомендую остановить тест и зафиксировать победу группы В по показателю конверсии. Дальше отдел маркетинга может начать работу по стимуляции к увеличению среднего чека."
   ]
  }
 ],
 "metadata": {
  "ExecuteTimeLog": [
   {
    "duration": 1416,
    "start_time": "2022-03-10T19:28:38.622Z"
   },
   {
    "duration": 41,
    "start_time": "2022-03-10T19:28:40.041Z"
   },
   {
    "duration": 131,
    "start_time": "2022-03-10T19:28:40.085Z"
   },
   {
    "duration": 116,
    "start_time": "2022-03-10T19:28:53.497Z"
   },
   {
    "duration": 3,
    "start_time": "2022-03-10T19:29:55.391Z"
   },
   {
    "duration": 3,
    "start_time": "2022-03-10T19:31:36.570Z"
   },
   {
    "duration": 5,
    "start_time": "2022-03-10T19:31:48.512Z"
   },
   {
    "duration": 401,
    "start_time": "2022-03-10T19:32:28.313Z"
   },
   {
    "duration": 105,
    "start_time": "2022-03-10T19:32:45.505Z"
   },
   {
    "duration": 98,
    "start_time": "2022-03-10T19:32:54.530Z"
   },
   {
    "duration": 9,
    "start_time": "2022-03-10T19:34:39.611Z"
   },
   {
    "duration": 1488,
    "start_time": "2022-03-10T19:39:54.177Z"
   },
   {
    "duration": 39,
    "start_time": "2022-03-10T19:39:55.668Z"
   },
   {
    "duration": 134,
    "start_time": "2022-03-10T19:39:55.709Z"
   },
   {
    "duration": 4,
    "start_time": "2022-03-10T19:39:55.847Z"
   },
   {
    "duration": 5,
    "start_time": "2022-03-10T19:39:55.888Z"
   },
   {
    "duration": 8,
    "start_time": "2022-03-10T19:39:55.896Z"
   },
   {
    "duration": 11,
    "start_time": "2022-03-10T19:39:55.907Z"
   },
   {
    "duration": 18,
    "start_time": "2022-03-10T19:46:09.351Z"
   },
   {
    "duration": 17,
    "start_time": "2022-03-10T19:46:36.826Z"
   },
   {
    "duration": 19,
    "start_time": "2022-03-10T19:48:25.431Z"
   },
   {
    "duration": 15,
    "start_time": "2022-03-10T20:09:18.716Z"
   },
   {
    "duration": 14,
    "start_time": "2022-03-10T20:17:34.112Z"
   },
   {
    "duration": 11,
    "start_time": "2022-03-10T20:34:44.020Z"
   },
   {
    "duration": 249,
    "start_time": "2022-03-10T20:35:11.211Z"
   },
   {
    "duration": 365,
    "start_time": "2022-03-10T20:35:27.519Z"
   },
   {
    "duration": 6059,
    "start_time": "2022-03-10T20:35:45.485Z"
   },
   {
    "duration": 5668,
    "start_time": "2022-03-10T20:36:24.864Z"
   },
   {
    "duration": 1446,
    "start_time": "2022-03-10T20:36:35.620Z"
   },
   {
    "duration": 42,
    "start_time": "2022-03-10T20:36:37.068Z"
   },
   {
    "duration": 126,
    "start_time": "2022-03-10T20:36:37.114Z"
   },
   {
    "duration": 3,
    "start_time": "2022-03-10T20:36:37.243Z"
   },
   {
    "duration": 43,
    "start_time": "2022-03-10T20:36:37.248Z"
   },
   {
    "duration": 23,
    "start_time": "2022-03-10T20:36:37.294Z"
   },
   {
    "duration": 19,
    "start_time": "2022-03-10T20:36:37.320Z"
   },
   {
    "duration": 25,
    "start_time": "2022-03-10T20:36:37.342Z"
   },
   {
    "duration": 17,
    "start_time": "2022-03-10T20:36:37.371Z"
   },
   {
    "duration": 15,
    "start_time": "2022-03-10T20:36:37.391Z"
   },
   {
    "duration": 9,
    "start_time": "2022-03-10T20:36:37.408Z"
   },
   {
    "duration": 5885,
    "start_time": "2022-03-10T20:36:37.419Z"
   },
   {
    "duration": -1441,
    "start_time": "2022-03-10T20:36:44.749Z"
   },
   {
    "duration": -1443,
    "start_time": "2022-03-10T20:36:44.754Z"
   },
   {
    "duration": 13,
    "start_time": "2022-03-10T20:38:17.521Z"
   },
   {
    "duration": 11,
    "start_time": "2022-03-10T20:38:39.855Z"
   },
   {
    "duration": 21,
    "start_time": "2022-03-10T20:40:31.055Z"
   },
   {
    "duration": 1426,
    "start_time": "2022-03-10T20:40:54.335Z"
   },
   {
    "duration": 43,
    "start_time": "2022-03-10T20:40:55.764Z"
   },
   {
    "duration": 130,
    "start_time": "2022-03-10T20:40:55.810Z"
   },
   {
    "duration": 4,
    "start_time": "2022-03-10T20:40:55.943Z"
   },
   {
    "duration": 42,
    "start_time": "2022-03-10T20:40:55.949Z"
   },
   {
    "duration": 9,
    "start_time": "2022-03-10T20:40:55.993Z"
   },
   {
    "duration": 11,
    "start_time": "2022-03-10T20:40:56.004Z"
   },
   {
    "duration": 17,
    "start_time": "2022-03-10T20:40:56.018Z"
   },
   {
    "duration": 18,
    "start_time": "2022-03-10T20:40:56.038Z"
   },
   {
    "duration": 13,
    "start_time": "2022-03-10T20:40:56.087Z"
   },
   {
    "duration": 14,
    "start_time": "2022-03-10T20:40:56.102Z"
   },
   {
    "duration": 22,
    "start_time": "2022-03-10T20:40:56.119Z"
   },
   {
    "duration": 10,
    "start_time": "2022-03-10T20:40:56.143Z"
   },
   {
    "duration": 8,
    "start_time": "2022-03-10T20:40:56.188Z"
   },
   {
    "duration": 6041,
    "start_time": "2022-03-10T20:40:56.198Z"
   },
   {
    "duration": -1450,
    "start_time": "2022-03-10T20:41:03.691Z"
   },
   {
    "duration": -1455,
    "start_time": "2022-03-10T20:41:03.698Z"
   },
   {
    "duration": 20,
    "start_time": "2022-03-10T20:42:03.021Z"
   },
   {
    "duration": 11,
    "start_time": "2022-03-10T20:42:05.753Z"
   },
   {
    "duration": 9,
    "start_time": "2022-03-10T20:42:09.379Z"
   },
   {
    "duration": 5607,
    "start_time": "2022-03-10T20:42:12.000Z"
   },
   {
    "duration": 1485,
    "start_time": "2022-03-10T20:43:39.877Z"
   },
   {
    "duration": 41,
    "start_time": "2022-03-10T20:43:41.365Z"
   },
   {
    "duration": 138,
    "start_time": "2022-03-10T20:43:41.410Z"
   },
   {
    "duration": 36,
    "start_time": "2022-03-10T20:43:41.551Z"
   },
   {
    "duration": 16,
    "start_time": "2022-03-10T20:43:41.591Z"
   },
   {
    "duration": 9,
    "start_time": "2022-03-10T20:43:41.609Z"
   },
   {
    "duration": 12,
    "start_time": "2022-03-10T20:43:41.620Z"
   },
   {
    "duration": 21,
    "start_time": "2022-03-10T20:43:41.636Z"
   },
   {
    "duration": 42,
    "start_time": "2022-03-10T20:43:41.660Z"
   },
   {
    "duration": 14,
    "start_time": "2022-03-10T20:43:41.705Z"
   },
   {
    "duration": 13,
    "start_time": "2022-03-10T20:43:41.722Z"
   },
   {
    "duration": 59,
    "start_time": "2022-03-10T20:43:41.737Z"
   },
   {
    "duration": 12,
    "start_time": "2022-03-10T20:43:41.798Z"
   },
   {
    "duration": 8,
    "start_time": "2022-03-10T20:43:41.812Z"
   },
   {
    "duration": 5762,
    "start_time": "2022-03-10T20:43:41.822Z"
   },
   {
    "duration": -1433,
    "start_time": "2022-03-10T20:43:49.019Z"
   },
   {
    "duration": -1439,
    "start_time": "2022-03-10T20:43:49.027Z"
   },
   {
    "duration": 3019,
    "start_time": "2022-03-10T20:44:09.291Z"
   },
   {
    "duration": 1426,
    "start_time": "2022-03-10T20:45:09.737Z"
   },
   {
    "duration": 43,
    "start_time": "2022-03-10T20:45:11.166Z"
   },
   {
    "duration": 141,
    "start_time": "2022-03-10T20:45:11.212Z"
   },
   {
    "duration": 5,
    "start_time": "2022-03-10T20:45:11.389Z"
   },
   {
    "duration": 6,
    "start_time": "2022-03-10T20:45:11.397Z"
   },
   {
    "duration": 16,
    "start_time": "2022-03-10T20:45:11.406Z"
   },
   {
    "duration": 94,
    "start_time": "2022-03-10T20:45:11.425Z"
   },
   {
    "duration": -1415,
    "start_time": "2022-03-10T20:45:12.937Z"
   },
   {
    "duration": -1420,
    "start_time": "2022-03-10T20:45:12.944Z"
   },
   {
    "duration": -1433,
    "start_time": "2022-03-10T20:45:12.958Z"
   },
   {
    "duration": -1437,
    "start_time": "2022-03-10T20:45:12.964Z"
   },
   {
    "duration": -1440,
    "start_time": "2022-03-10T20:45:12.969Z"
   },
   {
    "duration": -1444,
    "start_time": "2022-03-10T20:45:12.974Z"
   },
   {
    "duration": -1450,
    "start_time": "2022-03-10T20:45:12.982Z"
   },
   {
    "duration": -1453,
    "start_time": "2022-03-10T20:45:12.986Z"
   },
   {
    "duration": -1456,
    "start_time": "2022-03-10T20:45:12.991Z"
   },
   {
    "duration": -1488,
    "start_time": "2022-03-10T20:45:13.025Z"
   },
   {
    "duration": 88,
    "start_time": "2022-03-10T20:45:26.108Z"
   },
   {
    "duration": 1147,
    "start_time": "2022-03-10T20:45:42.555Z"
   },
   {
    "duration": 1492,
    "start_time": "2022-03-10T20:46:51.424Z"
   },
   {
    "duration": 41,
    "start_time": "2022-03-10T20:46:52.919Z"
   },
   {
    "duration": 142,
    "start_time": "2022-03-10T20:46:52.963Z"
   },
   {
    "duration": 3,
    "start_time": "2022-03-10T20:46:53.108Z"
   },
   {
    "duration": 8,
    "start_time": "2022-03-10T20:46:53.113Z"
   },
   {
    "duration": 17,
    "start_time": "2022-03-10T20:46:53.123Z"
   },
   {
    "duration": 1251,
    "start_time": "2022-03-10T20:46:53.142Z"
   },
   {
    "duration": -1425,
    "start_time": "2022-03-10T20:46:55.821Z"
   },
   {
    "duration": -1432,
    "start_time": "2022-03-10T20:46:55.829Z"
   },
   {
    "duration": -1447,
    "start_time": "2022-03-10T20:46:55.846Z"
   },
   {
    "duration": -1462,
    "start_time": "2022-03-10T20:46:55.862Z"
   },
   {
    "duration": -1471,
    "start_time": "2022-03-10T20:46:55.873Z"
   },
   {
    "duration": -1479,
    "start_time": "2022-03-10T20:46:55.883Z"
   },
   {
    "duration": -1483,
    "start_time": "2022-03-10T20:46:55.888Z"
   },
   {
    "duration": -1485,
    "start_time": "2022-03-10T20:46:55.893Z"
   },
   {
    "duration": -1490,
    "start_time": "2022-03-10T20:46:55.899Z"
   },
   {
    "duration": -1493,
    "start_time": "2022-03-10T20:46:55.903Z"
   },
   {
    "duration": 1038,
    "start_time": "2022-03-10T20:49:21.499Z"
   },
   {
    "duration": 1020,
    "start_time": "2022-03-10T20:49:53.850Z"
   },
   {
    "duration": 1023,
    "start_time": "2022-03-10T20:50:08.131Z"
   },
   {
    "duration": 1068,
    "start_time": "2022-03-10T20:50:49.668Z"
   },
   {
    "duration": 46,
    "start_time": "2022-03-10T20:51:17.804Z"
   },
   {
    "duration": 1377,
    "start_time": "2022-03-10T20:51:25.418Z"
   },
   {
    "duration": 44,
    "start_time": "2022-03-10T20:51:26.798Z"
   },
   {
    "duration": 144,
    "start_time": "2022-03-10T20:51:26.844Z"
   },
   {
    "duration": 3,
    "start_time": "2022-03-10T20:51:26.992Z"
   },
   {
    "duration": 18,
    "start_time": "2022-03-10T20:51:26.998Z"
   },
   {
    "duration": 20,
    "start_time": "2022-03-10T20:51:27.018Z"
   },
   {
    "duration": 1208,
    "start_time": "2022-03-10T20:51:27.041Z"
   },
   {
    "duration": -1421,
    "start_time": "2022-03-10T20:51:29.673Z"
   },
   {
    "duration": -1431,
    "start_time": "2022-03-10T20:51:29.684Z"
   },
   {
    "duration": -1436,
    "start_time": "2022-03-10T20:51:29.691Z"
   },
   {
    "duration": -1441,
    "start_time": "2022-03-10T20:51:29.697Z"
   },
   {
    "duration": -1445,
    "start_time": "2022-03-10T20:51:29.702Z"
   },
   {
    "duration": -1446,
    "start_time": "2022-03-10T20:51:29.705Z"
   },
   {
    "duration": -1450,
    "start_time": "2022-03-10T20:51:29.710Z"
   },
   {
    "duration": -1452,
    "start_time": "2022-03-10T20:51:29.714Z"
   },
   {
    "duration": -1455,
    "start_time": "2022-03-10T20:51:29.718Z"
   },
   {
    "duration": -1457,
    "start_time": "2022-03-10T20:51:29.723Z"
   },
   {
    "duration": -1459,
    "start_time": "2022-03-10T20:51:29.727Z"
   },
   {
    "duration": 8,
    "start_time": "2022-03-10T20:52:43.487Z"
   },
   {
    "duration": 1031,
    "start_time": "2022-03-10T20:52:50.115Z"
   },
   {
    "duration": 20,
    "start_time": "2022-03-10T20:53:09.116Z"
   },
   {
    "duration": 18,
    "start_time": "2022-03-10T20:53:13.688Z"
   },
   {
    "duration": 17,
    "start_time": "2022-03-10T20:53:17.389Z"
   },
   {
    "duration": 13,
    "start_time": "2022-03-10T20:53:20.812Z"
   },
   {
    "duration": 12,
    "start_time": "2022-03-10T20:53:24.448Z"
   },
   {
    "duration": 21,
    "start_time": "2022-03-10T20:53:28.197Z"
   },
   {
    "duration": 11,
    "start_time": "2022-03-10T20:53:35.016Z"
   },
   {
    "duration": 8,
    "start_time": "2022-03-10T20:53:39.282Z"
   },
   {
    "duration": 2952,
    "start_time": "2022-03-10T20:53:45.445Z"
   },
   {
    "duration": 6072,
    "start_time": "2022-03-10T20:54:51.498Z"
   },
   {
    "duration": 6225,
    "start_time": "2022-03-10T20:58:07.782Z"
   },
   {
    "duration": 5702,
    "start_time": "2022-03-10T20:58:47.055Z"
   },
   {
    "duration": 3391,
    "start_time": "2022-03-10T20:59:30.208Z"
   },
   {
    "duration": 5570,
    "start_time": "2022-03-10T20:59:44.364Z"
   },
   {
    "duration": 273,
    "start_time": "2022-03-10T20:59:50.205Z"
   },
   {
    "duration": 1639,
    "start_time": "2022-03-10T21:00:06.257Z"
   },
   {
    "duration": 43,
    "start_time": "2022-03-10T21:00:07.899Z"
   },
   {
    "duration": 149,
    "start_time": "2022-03-10T21:00:07.945Z"
   },
   {
    "duration": 4,
    "start_time": "2022-03-10T21:00:08.097Z"
   },
   {
    "duration": 14,
    "start_time": "2022-03-10T21:00:08.103Z"
   },
   {
    "duration": 39,
    "start_time": "2022-03-10T21:00:08.119Z"
   },
   {
    "duration": 19,
    "start_time": "2022-03-10T21:00:08.160Z"
   },
   {
    "duration": 26,
    "start_time": "2022-03-10T21:00:08.183Z"
   },
   {
    "duration": 23,
    "start_time": "2022-03-10T21:00:08.212Z"
   },
   {
    "duration": 23,
    "start_time": "2022-03-10T21:00:08.237Z"
   },
   {
    "duration": 31,
    "start_time": "2022-03-10T21:00:08.263Z"
   },
   {
    "duration": 16,
    "start_time": "2022-03-10T21:00:08.296Z"
   },
   {
    "duration": 29,
    "start_time": "2022-03-10T21:00:08.314Z"
   },
   {
    "duration": 11,
    "start_time": "2022-03-10T21:00:08.346Z"
   },
   {
    "duration": 34,
    "start_time": "2022-03-10T21:00:08.360Z"
   },
   {
    "duration": 6205,
    "start_time": "2022-03-10T21:00:08.396Z"
   },
   {
    "duration": -1425,
    "start_time": "2022-03-10T21:00:16.029Z"
   },
   {
    "duration": -1438,
    "start_time": "2022-03-10T21:00:16.044Z"
   },
   {
    "duration": -1442,
    "start_time": "2022-03-10T21:00:16.049Z"
   },
   {
    "duration": 6088,
    "start_time": "2022-03-10T21:01:06.251Z"
   },
   {
    "duration": 270,
    "start_time": "2022-03-10T21:02:53.713Z"
   },
   {
    "duration": 235,
    "start_time": "2022-03-10T21:02:59.680Z"
   },
   {
    "duration": 239,
    "start_time": "2022-03-10T21:03:06.705Z"
   },
   {
    "duration": 8,
    "start_time": "2022-03-10T21:03:51.487Z"
   },
   {
    "duration": 1519,
    "start_time": "2022-03-10T21:06:02.264Z"
   },
   {
    "duration": 38,
    "start_time": "2022-03-10T21:06:03.787Z"
   },
   {
    "duration": 115,
    "start_time": "2022-03-10T21:06:03.828Z"
   },
   {
    "duration": 3,
    "start_time": "2022-03-10T21:06:03.945Z"
   },
   {
    "duration": 39,
    "start_time": "2022-03-10T21:06:03.950Z"
   },
   {
    "duration": 11,
    "start_time": "2022-03-10T21:06:03.991Z"
   },
   {
    "duration": 9,
    "start_time": "2022-03-10T21:06:04.004Z"
   },
   {
    "duration": 24,
    "start_time": "2022-03-10T21:06:04.017Z"
   },
   {
    "duration": 58,
    "start_time": "2022-03-10T21:06:04.044Z"
   },
   {
    "duration": 19,
    "start_time": "2022-03-10T21:06:04.105Z"
   },
   {
    "duration": 21,
    "start_time": "2022-03-10T21:06:04.127Z"
   },
   {
    "duration": 39,
    "start_time": "2022-03-10T21:06:04.150Z"
   },
   {
    "duration": 19,
    "start_time": "2022-03-10T21:06:04.192Z"
   },
   {
    "duration": 15,
    "start_time": "2022-03-10T21:06:04.214Z"
   },
   {
    "duration": 12,
    "start_time": "2022-03-10T21:06:04.231Z"
   },
   {
    "duration": 45,
    "start_time": "2022-03-10T21:06:04.245Z"
   },
   {
    "duration": 6098,
    "start_time": "2022-03-10T21:06:04.293Z"
   },
   {
    "duration": -1493,
    "start_time": "2022-03-10T21:06:11.888Z"
   },
   {
    "duration": -1511,
    "start_time": "2022-03-10T21:06:11.908Z"
   },
   {
    "duration": -1523,
    "start_time": "2022-03-10T21:06:11.922Z"
   },
   {
    "duration": 675,
    "start_time": "2022-03-10T21:14:51.151Z"
   },
   {
    "duration": 444,
    "start_time": "2022-03-10T21:15:08.848Z"
   },
   {
    "duration": 5929,
    "start_time": "2022-03-10T21:16:30.355Z"
   },
   {
    "duration": 5481,
    "start_time": "2022-03-10T21:16:52.215Z"
   },
   {
    "duration": 13,
    "start_time": "2022-03-10T21:16:59.958Z"
   },
   {
    "duration": 10,
    "start_time": "2022-03-10T21:19:17.350Z"
   },
   {
    "duration": 8,
    "start_time": "2022-03-10T21:19:21.550Z"
   },
   {
    "duration": 7,
    "start_time": "2022-03-10T21:19:37.227Z"
   },
   {
    "duration": 1519,
    "start_time": "2022-03-10T21:20:12.769Z"
   },
   {
    "duration": 40,
    "start_time": "2022-03-10T21:20:14.290Z"
   },
   {
    "duration": 124,
    "start_time": "2022-03-10T21:20:14.333Z"
   },
   {
    "duration": 28,
    "start_time": "2022-03-10T21:20:14.460Z"
   },
   {
    "duration": 7,
    "start_time": "2022-03-10T21:20:14.490Z"
   },
   {
    "duration": 11,
    "start_time": "2022-03-10T21:20:14.499Z"
   },
   {
    "duration": 8,
    "start_time": "2022-03-10T21:20:14.512Z"
   },
   {
    "duration": 21,
    "start_time": "2022-03-10T21:20:14.523Z"
   },
   {
    "duration": 58,
    "start_time": "2022-03-10T21:20:14.547Z"
   },
   {
    "duration": 9,
    "start_time": "2022-03-10T21:20:14.607Z"
   },
   {
    "duration": 27,
    "start_time": "2022-03-10T21:20:14.618Z"
   },
   {
    "duration": 58,
    "start_time": "2022-03-10T21:20:14.648Z"
   },
   {
    "duration": 20,
    "start_time": "2022-03-10T21:20:14.709Z"
   },
   {
    "duration": 17,
    "start_time": "2022-03-10T21:20:14.732Z"
   },
   {
    "duration": 46,
    "start_time": "2022-03-10T21:20:14.751Z"
   },
   {
    "duration": 15,
    "start_time": "2022-03-10T21:20:14.800Z"
   },
   {
    "duration": 11,
    "start_time": "2022-03-10T21:20:14.818Z"
   },
   {
    "duration": 947,
    "start_time": "2022-03-10T21:20:14.832Z"
   },
   {
    "duration": 449,
    "start_time": "2022-03-10T21:20:15.786Z"
   },
   {
    "duration": 373,
    "start_time": "2022-03-10T21:21:02.931Z"
   },
   {
    "duration": 6,
    "start_time": "2022-03-10T21:21:18.890Z"
   },
   {
    "duration": 13,
    "start_time": "2022-03-10T21:21:36.272Z"
   },
   {
    "duration": 303,
    "start_time": "2022-03-10T21:26:41.690Z"
   },
   {
    "duration": 1458,
    "start_time": "2022-03-10T21:26:50.495Z"
   },
   {
    "duration": 42,
    "start_time": "2022-03-10T21:26:51.955Z"
   },
   {
    "duration": 134,
    "start_time": "2022-03-10T21:26:52.000Z"
   },
   {
    "duration": 3,
    "start_time": "2022-03-10T21:26:52.137Z"
   },
   {
    "duration": 8,
    "start_time": "2022-03-10T21:26:52.143Z"
   },
   {
    "duration": 39,
    "start_time": "2022-03-10T21:26:52.153Z"
   },
   {
    "duration": 11,
    "start_time": "2022-03-10T21:26:52.194Z"
   },
   {
    "duration": 21,
    "start_time": "2022-03-10T21:26:52.210Z"
   },
   {
    "duration": 25,
    "start_time": "2022-03-10T21:26:52.234Z"
   },
   {
    "duration": 8,
    "start_time": "2022-03-10T21:26:52.288Z"
   },
   {
    "duration": 19,
    "start_time": "2022-03-10T21:26:52.299Z"
   },
   {
    "duration": 17,
    "start_time": "2022-03-10T21:26:52.320Z"
   },
   {
    "duration": 51,
    "start_time": "2022-03-10T21:26:52.339Z"
   },
   {
    "duration": 14,
    "start_time": "2022-03-10T21:26:52.393Z"
   },
   {
    "duration": 13,
    "start_time": "2022-03-10T21:26:52.410Z"
   },
   {
    "duration": 15,
    "start_time": "2022-03-10T21:26:52.425Z"
   },
   {
    "duration": 13,
    "start_time": "2022-03-10T21:26:52.443Z"
   },
   {
    "duration": 40,
    "start_time": "2022-03-10T21:26:52.458Z"
   },
   {
    "duration": 622,
    "start_time": "2022-03-10T21:26:52.500Z"
   },
   {
    "duration": 440,
    "start_time": "2022-03-10T21:26:53.125Z"
   },
   {
    "duration": 314,
    "start_time": "2022-03-10T21:32:56.277Z"
   },
   {
    "duration": 314,
    "start_time": "2022-03-10T21:33:06.194Z"
   },
   {
    "duration": 410,
    "start_time": "2022-03-10T21:34:09.174Z"
   },
   {
    "duration": 403,
    "start_time": "2022-03-10T21:34:21.561Z"
   },
   {
    "duration": 399,
    "start_time": "2022-03-10T21:34:30.608Z"
   },
   {
    "duration": 364,
    "start_time": "2022-03-10T21:36:50.451Z"
   },
   {
    "duration": 68,
    "start_time": "2022-03-10T21:42:19.873Z"
   },
   {
    "duration": 266,
    "start_time": "2022-03-10T21:43:08.836Z"
   },
   {
    "duration": 311,
    "start_time": "2022-03-10T21:43:19.708Z"
   },
   {
    "duration": 345,
    "start_time": "2022-03-10T21:45:46.807Z"
   },
   {
    "duration": 466,
    "start_time": "2022-03-10T21:46:11.280Z"
   },
   {
    "duration": 399,
    "start_time": "2022-03-10T21:46:19.741Z"
   },
   {
    "duration": 392,
    "start_time": "2022-03-10T21:46:25.003Z"
   },
   {
    "duration": 540,
    "start_time": "2022-03-10T21:50:41.705Z"
   },
   {
    "duration": 457,
    "start_time": "2022-03-10T21:50:50.830Z"
   },
   {
    "duration": 448,
    "start_time": "2022-03-10T21:51:27.345Z"
   },
   {
    "duration": 360,
    "start_time": "2022-03-10T22:01:31.908Z"
   },
   {
    "duration": 614,
    "start_time": "2022-03-10T22:02:08.096Z"
   },
   {
    "duration": 533,
    "start_time": "2022-03-10T22:02:18.019Z"
   },
   {
    "duration": 506,
    "start_time": "2022-03-10T22:02:29.897Z"
   },
   {
    "duration": 487,
    "start_time": "2022-03-10T22:02:37.900Z"
   },
   {
    "duration": 487,
    "start_time": "2022-03-10T22:02:43.484Z"
   },
   {
    "duration": 404,
    "start_time": "2022-03-10T22:02:53.807Z"
   },
   {
    "duration": 562,
    "start_time": "2022-03-10T22:03:58.943Z"
   },
   {
    "duration": 592,
    "start_time": "2022-03-10T22:04:04.584Z"
   },
   {
    "duration": 705,
    "start_time": "2022-03-10T22:04:22.221Z"
   },
   {
    "duration": 706,
    "start_time": "2022-03-10T22:04:46.959Z"
   },
   {
    "duration": 685,
    "start_time": "2022-03-10T22:04:56.393Z"
   },
   {
    "duration": 686,
    "start_time": "2022-03-10T22:05:03.333Z"
   },
   {
    "duration": 666,
    "start_time": "2022-03-10T22:05:23.637Z"
   },
   {
    "duration": 407,
    "start_time": "2022-03-10T22:05:59.251Z"
   },
   {
    "duration": 511,
    "start_time": "2022-03-10T22:06:07.017Z"
   },
   {
    "duration": 493,
    "start_time": "2022-03-10T22:06:34.597Z"
   },
   {
    "duration": 489,
    "start_time": "2022-03-10T22:06:49.301Z"
   },
   {
    "duration": 467,
    "start_time": "2022-03-10T22:07:14.269Z"
   },
   {
    "duration": 416,
    "start_time": "2022-03-10T22:07:24.530Z"
   },
   {
    "duration": 425,
    "start_time": "2022-03-10T22:07:51.924Z"
   },
   {
    "duration": 6,
    "start_time": "2022-03-10T22:11:40.727Z"
   },
   {
    "duration": 230,
    "start_time": "2022-03-10T22:14:36.661Z"
   },
   {
    "duration": 464,
    "start_time": "2022-03-10T22:15:28.499Z"
   },
   {
    "duration": 489,
    "start_time": "2022-03-10T22:15:56.272Z"
   },
   {
    "duration": 505,
    "start_time": "2022-03-10T22:17:50.469Z"
   },
   {
    "duration": 1190,
    "start_time": "2022-03-11T05:04:00.122Z"
   },
   {
    "duration": 77,
    "start_time": "2022-03-11T05:04:01.315Z"
   },
   {
    "duration": 82,
    "start_time": "2022-03-11T05:04:01.394Z"
   },
   {
    "duration": 3,
    "start_time": "2022-03-11T05:04:01.477Z"
   },
   {
    "duration": 17,
    "start_time": "2022-03-11T05:04:01.481Z"
   },
   {
    "duration": 20,
    "start_time": "2022-03-11T05:04:01.500Z"
   },
   {
    "duration": 8,
    "start_time": "2022-03-11T05:04:01.521Z"
   },
   {
    "duration": 17,
    "start_time": "2022-03-11T05:04:01.532Z"
   },
   {
    "duration": 23,
    "start_time": "2022-03-11T05:04:01.551Z"
   },
   {
    "duration": 6,
    "start_time": "2022-03-11T05:04:01.576Z"
   },
   {
    "duration": 21,
    "start_time": "2022-03-11T05:04:01.584Z"
   },
   {
    "duration": 32,
    "start_time": "2022-03-11T05:04:01.607Z"
   },
   {
    "duration": 9,
    "start_time": "2022-03-11T05:04:01.641Z"
   },
   {
    "duration": 12,
    "start_time": "2022-03-11T05:04:01.652Z"
   },
   {
    "duration": 10,
    "start_time": "2022-03-11T05:04:01.665Z"
   },
   {
    "duration": 27,
    "start_time": "2022-03-11T05:04:01.676Z"
   },
   {
    "duration": 7,
    "start_time": "2022-03-11T05:04:01.705Z"
   },
   {
    "duration": 30,
    "start_time": "2022-03-11T05:04:01.713Z"
   },
   {
    "duration": 360,
    "start_time": "2022-03-11T05:04:01.745Z"
   },
   {
    "duration": 284,
    "start_time": "2022-03-11T05:04:02.107Z"
   },
   {
    "duration": 271,
    "start_time": "2022-03-11T05:04:02.393Z"
   },
   {
    "duration": 349,
    "start_time": "2022-03-11T05:04:02.666Z"
   },
   {
    "duration": 274,
    "start_time": "2022-03-11T05:04:03.018Z"
   },
   {
    "duration": 369,
    "start_time": "2022-03-11T05:04:03.294Z"
   },
   {
    "duration": 455,
    "start_time": "2022-03-11T05:04:03.665Z"
   },
   {
    "duration": 4,
    "start_time": "2022-03-11T05:04:04.122Z"
   },
   {
    "duration": 428,
    "start_time": "2022-03-11T05:04:04.127Z"
   },
   {
    "duration": 6,
    "start_time": "2022-03-11T05:04:04.557Z"
   },
   {
    "duration": 345,
    "start_time": "2022-03-11T05:04:04.565Z"
   },
   {
    "duration": 7,
    "start_time": "2022-03-11T05:04:31.557Z"
   },
   {
    "duration": 6,
    "start_time": "2022-03-11T05:05:12.937Z"
   },
   {
    "duration": 7,
    "start_time": "2022-03-11T05:05:22.747Z"
   },
   {
    "duration": 5,
    "start_time": "2022-03-11T05:11:03.810Z"
   },
   {
    "duration": 9,
    "start_time": "2022-03-11T05:34:33.570Z"
   },
   {
    "duration": 8,
    "start_time": "2022-03-11T05:34:37.439Z"
   },
   {
    "duration": 9,
    "start_time": "2022-03-11T05:34:54.029Z"
   },
   {
    "duration": 8,
    "start_time": "2022-03-11T05:35:03.446Z"
   },
   {
    "duration": 1195,
    "start_time": "2022-03-11T05:39:31.944Z"
   },
   {
    "duration": 51,
    "start_time": "2022-03-11T05:39:33.141Z"
   },
   {
    "duration": 88,
    "start_time": "2022-03-11T05:39:33.195Z"
   },
   {
    "duration": 3,
    "start_time": "2022-03-11T05:39:33.285Z"
   },
   {
    "duration": 9,
    "start_time": "2022-03-11T05:39:33.290Z"
   },
   {
    "duration": 7,
    "start_time": "2022-03-11T05:39:33.300Z"
   },
   {
    "duration": 29,
    "start_time": "2022-03-11T05:39:33.309Z"
   },
   {
    "duration": 22,
    "start_time": "2022-03-11T05:39:33.342Z"
   },
   {
    "duration": 39,
    "start_time": "2022-03-11T05:39:33.366Z"
   },
   {
    "duration": 4,
    "start_time": "2022-03-11T05:39:33.407Z"
   },
   {
    "duration": 19,
    "start_time": "2022-03-11T05:39:33.413Z"
   },
   {
    "duration": 13,
    "start_time": "2022-03-11T05:39:33.434Z"
   },
   {
    "duration": 21,
    "start_time": "2022-03-11T05:39:33.449Z"
   },
   {
    "duration": 15,
    "start_time": "2022-03-11T05:39:33.471Z"
   },
   {
    "duration": 12,
    "start_time": "2022-03-11T05:39:33.487Z"
   },
   {
    "duration": 11,
    "start_time": "2022-03-11T05:39:33.501Z"
   },
   {
    "duration": 25,
    "start_time": "2022-03-11T05:39:33.514Z"
   },
   {
    "duration": 10,
    "start_time": "2022-03-11T05:39:33.541Z"
   },
   {
    "duration": 372,
    "start_time": "2022-03-11T05:39:33.553Z"
   },
   {
    "duration": 293,
    "start_time": "2022-03-11T05:39:33.928Z"
   },
   {
    "duration": 289,
    "start_time": "2022-03-11T05:39:34.223Z"
   },
   {
    "duration": 384,
    "start_time": "2022-03-11T05:39:34.514Z"
   },
   {
    "duration": 293,
    "start_time": "2022-03-11T05:39:34.901Z"
   },
   {
    "duration": 383,
    "start_time": "2022-03-11T05:39:35.197Z"
   },
   {
    "duration": 438,
    "start_time": "2022-03-11T05:39:35.582Z"
   },
   {
    "duration": 4,
    "start_time": "2022-03-11T05:39:36.022Z"
   },
   {
    "duration": 428,
    "start_time": "2022-03-11T05:39:36.028Z"
   },
   {
    "duration": 5,
    "start_time": "2022-03-11T05:39:36.458Z"
   },
   {
    "duration": 348,
    "start_time": "2022-03-11T05:39:36.464Z"
   },
   {
    "duration": 6,
    "start_time": "2022-03-11T05:39:36.814Z"
   },
   {
    "duration": 23,
    "start_time": "2022-03-11T05:39:36.822Z"
   },
   {
    "duration": 10,
    "start_time": "2022-03-11T05:39:36.847Z"
   },
   {
    "duration": 1141,
    "start_time": "2022-03-11T05:39:55.166Z"
   },
   {
    "duration": 42,
    "start_time": "2022-03-11T05:39:56.309Z"
   },
   {
    "duration": 109,
    "start_time": "2022-03-11T05:39:56.353Z"
   },
   {
    "duration": 2,
    "start_time": "2022-03-11T05:39:56.464Z"
   },
   {
    "duration": 7,
    "start_time": "2022-03-11T05:39:56.468Z"
   },
   {
    "duration": 12,
    "start_time": "2022-03-11T05:39:56.477Z"
   },
   {
    "duration": 13,
    "start_time": "2022-03-11T05:39:56.490Z"
   },
   {
    "duration": 34,
    "start_time": "2022-03-11T05:39:56.505Z"
   },
   {
    "duration": 7,
    "start_time": "2022-03-11T05:39:56.541Z"
   },
   {
    "duration": 15,
    "start_time": "2022-03-11T05:39:56.549Z"
   },
   {
    "duration": 12,
    "start_time": "2022-03-11T05:39:56.566Z"
   },
   {
    "duration": 12,
    "start_time": "2022-03-11T05:39:56.579Z"
   },
   {
    "duration": 11,
    "start_time": "2022-03-11T05:39:56.593Z"
   },
   {
    "duration": 33,
    "start_time": "2022-03-11T05:39:56.606Z"
   },
   {
    "duration": 13,
    "start_time": "2022-03-11T05:39:56.641Z"
   },
   {
    "duration": 4,
    "start_time": "2022-03-11T05:39:56.656Z"
   },
   {
    "duration": 12,
    "start_time": "2022-03-11T05:39:56.661Z"
   },
   {
    "duration": 371,
    "start_time": "2022-03-11T05:39:56.675Z"
   },
   {
    "duration": 295,
    "start_time": "2022-03-11T05:39:57.047Z"
   },
   {
    "duration": 273,
    "start_time": "2022-03-11T05:39:57.344Z"
   },
   {
    "duration": 400,
    "start_time": "2022-03-11T05:39:57.620Z"
   },
   {
    "duration": 281,
    "start_time": "2022-03-11T05:39:58.022Z"
   },
   {
    "duration": 413,
    "start_time": "2022-03-11T05:39:58.307Z"
   },
   {
    "duration": 490,
    "start_time": "2022-03-11T05:39:58.723Z"
   },
   {
    "duration": 4,
    "start_time": "2022-03-11T05:39:59.216Z"
   },
   {
    "duration": 466,
    "start_time": "2022-03-11T05:39:59.223Z"
   },
   {
    "duration": 6,
    "start_time": "2022-03-11T05:39:59.691Z"
   },
   {
    "duration": 358,
    "start_time": "2022-03-11T05:39:59.699Z"
   },
   {
    "duration": 6,
    "start_time": "2022-03-11T05:40:00.059Z"
   },
   {
    "duration": 19,
    "start_time": "2022-03-11T05:40:00.067Z"
   },
   {
    "duration": 11,
    "start_time": "2022-03-11T05:40:00.088Z"
   },
   {
    "duration": 396,
    "start_time": "2022-03-11T05:42:53.175Z"
   },
   {
    "duration": 257,
    "start_time": "2022-03-11T05:43:13.624Z"
   },
   {
    "duration": 32,
    "start_time": "2022-03-11T05:45:22.743Z"
   },
   {
    "duration": 34,
    "start_time": "2022-03-11T05:45:40.299Z"
   },
   {
    "duration": 1170,
    "start_time": "2022-03-11T05:47:44.453Z"
   },
   {
    "duration": 43,
    "start_time": "2022-03-11T05:47:45.625Z"
   },
   {
    "duration": 74,
    "start_time": "2022-03-11T05:47:45.670Z"
   },
   {
    "duration": 2,
    "start_time": "2022-03-11T05:47:45.746Z"
   },
   {
    "duration": 10,
    "start_time": "2022-03-11T05:47:45.750Z"
   },
   {
    "duration": 11,
    "start_time": "2022-03-11T05:47:45.762Z"
   },
   {
    "duration": 5,
    "start_time": "2022-03-11T05:47:45.774Z"
   },
   {
    "duration": 14,
    "start_time": "2022-03-11T05:47:45.781Z"
   },
   {
    "duration": 6,
    "start_time": "2022-03-11T05:47:45.798Z"
   },
   {
    "duration": 39,
    "start_time": "2022-03-11T05:47:45.806Z"
   },
   {
    "duration": 12,
    "start_time": "2022-03-11T05:47:45.847Z"
   },
   {
    "duration": 11,
    "start_time": "2022-03-11T05:47:45.860Z"
   },
   {
    "duration": 10,
    "start_time": "2022-03-11T05:47:45.873Z"
   },
   {
    "duration": 8,
    "start_time": "2022-03-11T05:47:45.885Z"
   },
   {
    "duration": 10,
    "start_time": "2022-03-11T05:47:45.895Z"
   },
   {
    "duration": 4,
    "start_time": "2022-03-11T05:47:45.938Z"
   },
   {
    "duration": 12,
    "start_time": "2022-03-11T05:47:45.943Z"
   },
   {
    "duration": 358,
    "start_time": "2022-03-11T05:47:45.957Z"
   },
   {
    "duration": 282,
    "start_time": "2022-03-11T05:47:46.317Z"
   },
   {
    "duration": 287,
    "start_time": "2022-03-11T05:47:46.601Z"
   },
   {
    "duration": 347,
    "start_time": "2022-03-11T05:47:46.890Z"
   },
   {
    "duration": 282,
    "start_time": "2022-03-11T05:47:47.239Z"
   },
   {
    "duration": 393,
    "start_time": "2022-03-11T05:47:47.523Z"
   },
   {
    "duration": 486,
    "start_time": "2022-03-11T05:47:47.918Z"
   },
   {
    "duration": 4,
    "start_time": "2022-03-11T05:47:48.405Z"
   },
   {
    "duration": 414,
    "start_time": "2022-03-11T05:47:48.411Z"
   },
   {
    "duration": 13,
    "start_time": "2022-03-11T05:47:48.828Z"
   },
   {
    "duration": 359,
    "start_time": "2022-03-11T05:47:48.843Z"
   },
   {
    "duration": 4,
    "start_time": "2022-03-11T05:47:49.204Z"
   },
   {
    "duration": 10,
    "start_time": "2022-03-11T05:47:49.210Z"
   },
   {
    "duration": 20,
    "start_time": "2022-03-11T05:47:49.222Z"
   },
   {
    "duration": 126,
    "start_time": "2022-03-11T05:47:49.244Z"
   },
   {
    "duration": 153,
    "start_time": "2022-03-11T05:47:49.371Z"
   },
   {
    "duration": 41,
    "start_time": "2022-03-11T05:47:49.526Z"
   },
   {
    "duration": 95,
    "start_time": "2022-03-11T05:50:34.316Z"
   },
   {
    "duration": 6,
    "start_time": "2022-03-11T05:54:37.717Z"
   },
   {
    "duration": 271,
    "start_time": "2022-03-11T05:54:40.789Z"
   },
   {
    "duration": 11,
    "start_time": "2022-03-11T05:56:13.495Z"
   },
   {
    "duration": 10,
    "start_time": "2022-03-11T05:56:43.203Z"
   },
   {
    "duration": 9,
    "start_time": "2022-03-11T05:57:51.218Z"
   },
   {
    "duration": 10,
    "start_time": "2022-03-11T06:07:40.577Z"
   },
   {
    "duration": 14,
    "start_time": "2022-03-11T06:08:37.110Z"
   },
   {
    "duration": 14,
    "start_time": "2022-03-11T06:08:49.946Z"
   },
   {
    "duration": 13,
    "start_time": "2022-03-11T06:09:11.143Z"
   },
   {
    "duration": 11,
    "start_time": "2022-03-11T06:20:04.478Z"
   },
   {
    "duration": 8,
    "start_time": "2022-03-11T06:23:09.135Z"
   },
   {
    "duration": 8,
    "start_time": "2022-03-11T06:23:42.257Z"
   },
   {
    "duration": 15,
    "start_time": "2022-03-11T06:24:30.023Z"
   },
   {
    "duration": 62,
    "start_time": "2022-03-11T06:24:37.866Z"
   },
   {
    "duration": 12,
    "start_time": "2022-03-11T06:24:48.409Z"
   },
   {
    "duration": 14,
    "start_time": "2022-03-11T06:25:03.490Z"
   },
   {
    "duration": 13,
    "start_time": "2022-03-11T06:25:21.888Z"
   },
   {
    "duration": 11,
    "start_time": "2022-03-11T06:25:38.362Z"
   },
   {
    "duration": 12,
    "start_time": "2022-03-11T06:25:48.058Z"
   },
   {
    "duration": 12,
    "start_time": "2022-03-11T06:25:58.591Z"
   },
   {
    "duration": 176,
    "start_time": "2022-03-11T06:30:37.477Z"
   },
   {
    "duration": 14,
    "start_time": "2022-03-11T06:30:52.330Z"
   },
   {
    "duration": 14,
    "start_time": "2022-03-11T06:31:37.363Z"
   },
   {
    "duration": 1180,
    "start_time": "2022-03-11T06:44:10.831Z"
   },
   {
    "duration": 46,
    "start_time": "2022-03-11T06:44:12.013Z"
   },
   {
    "duration": 96,
    "start_time": "2022-03-11T06:44:12.061Z"
   },
   {
    "duration": 3,
    "start_time": "2022-03-11T06:44:12.158Z"
   },
   {
    "duration": 5,
    "start_time": "2022-03-11T06:44:12.163Z"
   },
   {
    "duration": 7,
    "start_time": "2022-03-11T06:44:12.170Z"
   },
   {
    "duration": 5,
    "start_time": "2022-03-11T06:44:12.179Z"
   },
   {
    "duration": 13,
    "start_time": "2022-03-11T06:44:12.187Z"
   },
   {
    "duration": 39,
    "start_time": "2022-03-11T06:44:12.202Z"
   },
   {
    "duration": 15,
    "start_time": "2022-03-11T06:44:12.243Z"
   },
   {
    "duration": 13,
    "start_time": "2022-03-11T06:44:12.260Z"
   },
   {
    "duration": 10,
    "start_time": "2022-03-11T06:44:12.275Z"
   },
   {
    "duration": 9,
    "start_time": "2022-03-11T06:44:12.287Z"
   },
   {
    "duration": 8,
    "start_time": "2022-03-11T06:44:12.339Z"
   },
   {
    "duration": 12,
    "start_time": "2022-03-11T06:44:12.348Z"
   },
   {
    "duration": 4,
    "start_time": "2022-03-11T06:44:12.362Z"
   },
   {
    "duration": 11,
    "start_time": "2022-03-11T06:44:12.367Z"
   },
   {
    "duration": 379,
    "start_time": "2022-03-11T06:44:12.380Z"
   },
   {
    "duration": 296,
    "start_time": "2022-03-11T06:44:12.760Z"
   },
   {
    "duration": 305,
    "start_time": "2022-03-11T06:44:13.058Z"
   },
   {
    "duration": 366,
    "start_time": "2022-03-11T06:44:13.365Z"
   },
   {
    "duration": 279,
    "start_time": "2022-03-11T06:44:13.737Z"
   },
   {
    "duration": 430,
    "start_time": "2022-03-11T06:44:14.020Z"
   },
   {
    "duration": 475,
    "start_time": "2022-03-11T06:44:14.452Z"
   },
   {
    "duration": 11,
    "start_time": "2022-03-11T06:44:14.929Z"
   },
   {
    "duration": 475,
    "start_time": "2022-03-11T06:44:14.942Z"
   },
   {
    "duration": 20,
    "start_time": "2022-03-11T06:44:15.420Z"
   },
   {
    "duration": 390,
    "start_time": "2022-03-11T06:44:15.443Z"
   },
   {
    "duration": 5,
    "start_time": "2022-03-11T06:44:15.837Z"
   },
   {
    "duration": 13,
    "start_time": "2022-03-11T06:44:15.844Z"
   },
   {
    "duration": 12,
    "start_time": "2022-03-11T06:44:15.859Z"
   },
   {
    "duration": 136,
    "start_time": "2022-03-11T06:44:15.872Z"
   },
   {
    "duration": 154,
    "start_time": "2022-03-11T06:44:16.010Z"
   },
   {
    "duration": 33,
    "start_time": "2022-03-11T06:44:16.166Z"
   },
   {
    "duration": 111,
    "start_time": "2022-03-11T06:44:16.201Z"
   },
   {
    "duration": 6,
    "start_time": "2022-03-11T06:44:16.314Z"
   },
   {
    "duration": 25,
    "start_time": "2022-03-11T06:44:16.321Z"
   },
   {
    "duration": 12,
    "start_time": "2022-03-11T06:44:16.348Z"
   },
   {
    "duration": 10,
    "start_time": "2022-03-11T06:44:16.362Z"
   },
   {
    "duration": 9,
    "start_time": "2022-03-11T06:44:16.374Z"
   },
   {
    "duration": 14,
    "start_time": "2022-03-11T06:44:16.385Z"
   },
   {
    "duration": 47,
    "start_time": "2022-03-11T06:44:16.401Z"
   },
   {
    "duration": 54,
    "start_time": "2022-03-11T06:46:31.061Z"
   },
   {
    "duration": 1073,
    "start_time": "2022-03-11T09:27:52.745Z"
   },
   {
    "duration": 40,
    "start_time": "2022-03-11T09:27:53.819Z"
   },
   {
    "duration": 98,
    "start_time": "2022-03-11T09:27:53.861Z"
   },
   {
    "duration": 3,
    "start_time": "2022-03-11T09:27:53.961Z"
   },
   {
    "duration": 7,
    "start_time": "2022-03-11T09:27:53.965Z"
   },
   {
    "duration": 17,
    "start_time": "2022-03-11T09:27:53.974Z"
   },
   {
    "duration": 4,
    "start_time": "2022-03-11T09:27:53.993Z"
   },
   {
    "duration": 15,
    "start_time": "2022-03-11T09:27:53.999Z"
   },
   {
    "duration": 5,
    "start_time": "2022-03-11T09:27:54.016Z"
   },
   {
    "duration": 14,
    "start_time": "2022-03-11T09:27:54.023Z"
   },
   {
    "duration": 28,
    "start_time": "2022-03-11T09:27:54.039Z"
   },
   {
    "duration": 11,
    "start_time": "2022-03-11T09:27:54.069Z"
   },
   {
    "duration": 9,
    "start_time": "2022-03-11T09:27:54.081Z"
   },
   {
    "duration": 8,
    "start_time": "2022-03-11T09:27:54.092Z"
   },
   {
    "duration": 12,
    "start_time": "2022-03-11T09:27:54.101Z"
   },
   {
    "duration": 5,
    "start_time": "2022-03-11T09:27:54.115Z"
   },
   {
    "duration": 38,
    "start_time": "2022-03-11T09:27:54.122Z"
   },
   {
    "duration": 357,
    "start_time": "2022-03-11T09:27:54.162Z"
   },
   {
    "duration": 292,
    "start_time": "2022-03-11T09:27:54.521Z"
   },
   {
    "duration": 294,
    "start_time": "2022-03-11T09:27:54.815Z"
   },
   {
    "duration": 364,
    "start_time": "2022-03-11T09:27:55.111Z"
   },
   {
    "duration": 287,
    "start_time": "2022-03-11T09:27:55.476Z"
   },
   {
    "duration": 387,
    "start_time": "2022-03-11T09:27:55.764Z"
   },
   {
    "duration": 481,
    "start_time": "2022-03-11T09:27:56.153Z"
   },
   {
    "duration": 4,
    "start_time": "2022-03-11T09:27:56.636Z"
   },
   {
    "duration": 401,
    "start_time": "2022-03-11T09:27:56.641Z"
   },
   {
    "duration": 5,
    "start_time": "2022-03-11T09:27:57.046Z"
   },
   {
    "duration": 362,
    "start_time": "2022-03-11T09:27:57.060Z"
   },
   {
    "duration": 5,
    "start_time": "2022-03-11T09:27:57.423Z"
   },
   {
    "duration": 9,
    "start_time": "2022-03-11T09:27:57.429Z"
   },
   {
    "duration": 21,
    "start_time": "2022-03-11T09:27:57.440Z"
   },
   {
    "duration": 117,
    "start_time": "2022-03-11T09:27:57.463Z"
   },
   {
    "duration": 143,
    "start_time": "2022-03-11T09:27:57.581Z"
   },
   {
    "duration": 37,
    "start_time": "2022-03-11T09:27:57.726Z"
   },
   {
    "duration": 117,
    "start_time": "2022-03-11T09:27:57.765Z"
   },
   {
    "duration": 5,
    "start_time": "2022-03-11T09:27:57.884Z"
   },
   {
    "duration": 10,
    "start_time": "2022-03-11T09:27:57.891Z"
   },
   {
    "duration": 12,
    "start_time": "2022-03-11T09:27:57.902Z"
   },
   {
    "duration": 9,
    "start_time": "2022-03-11T09:27:57.916Z"
   },
   {
    "duration": 9,
    "start_time": "2022-03-11T09:27:57.960Z"
   },
   {
    "duration": 10,
    "start_time": "2022-03-11T09:27:57.971Z"
   },
   {
    "duration": 14,
    "start_time": "2022-03-11T09:27:57.983Z"
   },
   {
    "duration": 1112,
    "start_time": "2022-03-11T17:57:54.631Z"
   },
   {
    "duration": 67,
    "start_time": "2022-03-11T17:57:55.746Z"
   },
   {
    "duration": 89,
    "start_time": "2022-03-11T17:57:55.815Z"
   },
   {
    "duration": 2,
    "start_time": "2022-03-11T17:57:55.905Z"
   },
   {
    "duration": 7,
    "start_time": "2022-03-11T17:57:55.908Z"
   },
   {
    "duration": 7,
    "start_time": "2022-03-11T17:57:55.916Z"
   },
   {
    "duration": 7,
    "start_time": "2022-03-11T17:57:55.925Z"
   },
   {
    "duration": 11,
    "start_time": "2022-03-11T17:57:55.935Z"
   },
   {
    "duration": 4,
    "start_time": "2022-03-11T17:57:55.948Z"
   },
   {
    "duration": 13,
    "start_time": "2022-03-11T17:57:55.953Z"
   },
   {
    "duration": 40,
    "start_time": "2022-03-11T17:57:55.967Z"
   },
   {
    "duration": 10,
    "start_time": "2022-03-11T17:57:56.009Z"
   },
   {
    "duration": 9,
    "start_time": "2022-03-11T17:57:56.020Z"
   },
   {
    "duration": 7,
    "start_time": "2022-03-11T17:57:56.031Z"
   },
   {
    "duration": 11,
    "start_time": "2022-03-11T17:57:56.040Z"
   },
   {
    "duration": 8,
    "start_time": "2022-03-11T17:57:56.052Z"
   },
   {
    "duration": 41,
    "start_time": "2022-03-11T17:57:56.061Z"
   },
   {
    "duration": 332,
    "start_time": "2022-03-11T17:57:56.104Z"
   },
   {
    "duration": 257,
    "start_time": "2022-03-11T17:57:56.438Z"
   },
   {
    "duration": 238,
    "start_time": "2022-03-11T17:57:56.697Z"
   },
   {
    "duration": 315,
    "start_time": "2022-03-11T17:57:56.937Z"
   },
   {
    "duration": 246,
    "start_time": "2022-03-11T17:57:57.253Z"
   },
   {
    "duration": 350,
    "start_time": "2022-03-11T17:57:57.502Z"
   },
   {
    "duration": 441,
    "start_time": "2022-03-11T17:57:57.854Z"
   },
   {
    "duration": 6,
    "start_time": "2022-03-11T17:57:58.297Z"
   },
   {
    "duration": 389,
    "start_time": "2022-03-11T17:57:58.304Z"
   },
   {
    "duration": 8,
    "start_time": "2022-03-11T17:57:58.694Z"
   },
   {
    "duration": 366,
    "start_time": "2022-03-11T17:57:58.703Z"
   },
   {
    "duration": 4,
    "start_time": "2022-03-11T17:57:59.071Z"
   },
   {
    "duration": 9,
    "start_time": "2022-03-11T17:57:59.076Z"
   },
   {
    "duration": 16,
    "start_time": "2022-03-11T17:57:59.086Z"
   },
   {
    "duration": 112,
    "start_time": "2022-03-11T17:57:59.103Z"
   },
   {
    "duration": 125,
    "start_time": "2022-03-11T17:57:59.217Z"
   },
   {
    "duration": 30,
    "start_time": "2022-03-11T17:57:59.343Z"
   },
   {
    "duration": 232,
    "start_time": "2022-03-11T17:57:59.374Z"
   },
   {
    "duration": 5,
    "start_time": "2022-03-11T17:57:59.607Z"
   },
   {
    "duration": 10,
    "start_time": "2022-03-11T17:57:59.614Z"
   },
   {
    "duration": 11,
    "start_time": "2022-03-11T17:57:59.625Z"
   },
   {
    "duration": 9,
    "start_time": "2022-03-11T17:57:59.637Z"
   },
   {
    "duration": 6,
    "start_time": "2022-03-11T17:57:59.647Z"
   },
   {
    "duration": 9,
    "start_time": "2022-03-11T17:57:59.655Z"
   },
   {
    "duration": 12,
    "start_time": "2022-03-11T17:57:59.702Z"
   },
   {
    "duration": 239,
    "start_time": "2022-03-11T17:58:25.728Z"
   },
   {
    "duration": 241,
    "start_time": "2022-03-11T17:58:39.212Z"
   },
   {
    "duration": 250,
    "start_time": "2022-03-11T17:58:45.488Z"
   },
   {
    "duration": 242,
    "start_time": "2022-03-11T17:59:19.825Z"
   },
   {
    "duration": 307,
    "start_time": "2022-03-11T17:59:57.841Z"
   },
   {
    "duration": 232,
    "start_time": "2022-03-11T18:00:42.723Z"
   },
   {
    "duration": 379,
    "start_time": "2022-03-11T18:02:26.304Z"
   },
   {
    "duration": 401,
    "start_time": "2022-03-11T18:07:09.959Z"
   },
   {
    "duration": 401,
    "start_time": "2022-03-11T18:07:56.367Z"
   },
   {
    "duration": 403,
    "start_time": "2022-03-11T18:08:13.307Z"
   },
   {
    "duration": 355,
    "start_time": "2022-03-11T18:08:33.595Z"
   },
   {
    "duration": 330,
    "start_time": "2022-03-11T18:09:09.421Z"
   },
   {
    "duration": 30,
    "start_time": "2022-03-11T18:16:26.069Z"
   },
   {
    "duration": 16,
    "start_time": "2022-03-11T18:16:56.848Z"
   },
   {
    "duration": 65,
    "start_time": "2022-03-11T18:17:14.538Z"
   },
   {
    "duration": 10,
    "start_time": "2022-03-11T18:17:23.781Z"
   },
   {
    "duration": 1406,
    "start_time": "2022-03-11T18:20:10.021Z"
   },
   {
    "duration": 66,
    "start_time": "2022-03-11T18:20:11.429Z"
   },
   {
    "duration": 74,
    "start_time": "2022-03-11T18:20:11.497Z"
   },
   {
    "duration": 28,
    "start_time": "2022-03-11T18:20:11.573Z"
   },
   {
    "duration": 5,
    "start_time": "2022-03-11T18:20:11.603Z"
   },
   {
    "duration": 6,
    "start_time": "2022-03-11T18:20:11.609Z"
   },
   {
    "duration": 6,
    "start_time": "2022-03-11T18:20:11.616Z"
   },
   {
    "duration": 13,
    "start_time": "2022-03-11T18:20:11.624Z"
   },
   {
    "duration": 5,
    "start_time": "2022-03-11T18:20:11.639Z"
   },
   {
    "duration": 14,
    "start_time": "2022-03-11T18:20:11.645Z"
   },
   {
    "duration": 10,
    "start_time": "2022-03-11T18:20:11.660Z"
   },
   {
    "duration": 32,
    "start_time": "2022-03-11T18:20:11.672Z"
   },
   {
    "duration": 11,
    "start_time": "2022-03-11T18:20:11.706Z"
   },
   {
    "duration": 13,
    "start_time": "2022-03-11T18:20:11.718Z"
   },
   {
    "duration": 13,
    "start_time": "2022-03-11T18:20:11.732Z"
   },
   {
    "duration": 8,
    "start_time": "2022-03-11T18:20:11.747Z"
   },
   {
    "duration": 12,
    "start_time": "2022-03-11T18:20:11.756Z"
   },
   {
    "duration": 317,
    "start_time": "2022-03-11T18:20:11.769Z"
   },
   {
    "duration": 260,
    "start_time": "2022-03-11T18:20:12.088Z"
   },
   {
    "duration": 246,
    "start_time": "2022-03-11T18:20:12.350Z"
   },
   {
    "duration": 347,
    "start_time": "2022-03-11T18:20:12.601Z"
   },
   {
    "duration": 338,
    "start_time": "2022-03-11T18:20:12.950Z"
   },
   {
    "duration": 380,
    "start_time": "2022-03-11T18:20:13.291Z"
   },
   {
    "duration": 466,
    "start_time": "2022-03-11T18:20:13.673Z"
   },
   {
    "duration": 4,
    "start_time": "2022-03-11T18:20:14.140Z"
   },
   {
    "duration": 413,
    "start_time": "2022-03-11T18:20:14.146Z"
   },
   {
    "duration": 6,
    "start_time": "2022-03-11T18:20:14.561Z"
   },
   {
    "duration": 403,
    "start_time": "2022-03-11T18:20:14.569Z"
   },
   {
    "duration": 4,
    "start_time": "2022-03-11T18:20:14.974Z"
   },
   {
    "duration": 10,
    "start_time": "2022-03-11T18:20:14.980Z"
   },
   {
    "duration": 7,
    "start_time": "2022-03-11T18:20:15.001Z"
   },
   {
    "duration": 109,
    "start_time": "2022-03-11T18:20:15.009Z"
   },
   {
    "duration": 134,
    "start_time": "2022-03-11T18:20:15.119Z"
   },
   {
    "duration": 28,
    "start_time": "2022-03-11T18:20:15.255Z"
   },
   {
    "duration": 95,
    "start_time": "2022-03-11T18:20:15.285Z"
   },
   {
    "duration": 5,
    "start_time": "2022-03-11T18:20:15.382Z"
   },
   {
    "duration": 25,
    "start_time": "2022-03-11T18:20:15.388Z"
   },
   {
    "duration": 12,
    "start_time": "2022-03-11T18:20:15.415Z"
   },
   {
    "duration": 12,
    "start_time": "2022-03-11T18:20:15.428Z"
   },
   {
    "duration": 30,
    "start_time": "2022-03-11T18:20:15.441Z"
   },
   {
    "duration": 17,
    "start_time": "2022-03-11T18:20:15.473Z"
   },
   {
    "duration": 20,
    "start_time": "2022-03-11T18:20:15.492Z"
   },
   {
    "duration": 3,
    "start_time": "2022-03-11T18:23:33.789Z"
   },
   {
    "duration": 10,
    "start_time": "2022-03-11T18:23:35.348Z"
   },
   {
    "duration": 1058,
    "start_time": "2022-03-11T18:23:47.810Z"
   },
   {
    "duration": 78,
    "start_time": "2022-03-11T18:23:48.870Z"
   },
   {
    "duration": 70,
    "start_time": "2022-03-11T18:23:48.950Z"
   },
   {
    "duration": 3,
    "start_time": "2022-03-11T18:23:49.022Z"
   },
   {
    "duration": 4,
    "start_time": "2022-03-11T18:23:49.027Z"
   },
   {
    "duration": 6,
    "start_time": "2022-03-11T18:23:49.033Z"
   },
   {
    "duration": 5,
    "start_time": "2022-03-11T18:23:49.040Z"
   },
   {
    "duration": 11,
    "start_time": "2022-03-11T18:23:49.048Z"
   },
   {
    "duration": 42,
    "start_time": "2022-03-11T18:23:49.061Z"
   },
   {
    "duration": 3,
    "start_time": "2022-03-11T18:23:49.104Z"
   },
   {
    "duration": 12,
    "start_time": "2022-03-11T18:23:49.109Z"
   },
   {
    "duration": 12,
    "start_time": "2022-03-11T18:23:49.122Z"
   },
   {
    "duration": 11,
    "start_time": "2022-03-11T18:23:49.135Z"
   },
   {
    "duration": 14,
    "start_time": "2022-03-11T18:23:49.148Z"
   },
   {
    "duration": 10,
    "start_time": "2022-03-11T18:23:49.164Z"
   },
   {
    "duration": 9,
    "start_time": "2022-03-11T18:23:49.201Z"
   },
   {
    "duration": 3,
    "start_time": "2022-03-11T18:23:49.211Z"
   },
   {
    "duration": 9,
    "start_time": "2022-03-11T18:23:49.216Z"
   },
   {
    "duration": 437,
    "start_time": "2022-03-11T18:23:49.226Z"
   },
   {
    "duration": 251,
    "start_time": "2022-03-11T18:23:49.665Z"
   },
   {
    "duration": 245,
    "start_time": "2022-03-11T18:23:49.918Z"
   },
   {
    "duration": 373,
    "start_time": "2022-03-11T18:23:50.166Z"
   },
   {
    "duration": 370,
    "start_time": "2022-03-11T18:23:50.543Z"
   },
   {
    "duration": 370,
    "start_time": "2022-03-11T18:23:50.916Z"
   },
   {
    "duration": 464,
    "start_time": "2022-03-11T18:23:51.287Z"
   },
   {
    "duration": 4,
    "start_time": "2022-03-11T18:23:51.752Z"
   },
   {
    "duration": 395,
    "start_time": "2022-03-11T18:23:51.758Z"
   },
   {
    "duration": 5,
    "start_time": "2022-03-11T18:23:52.155Z"
   },
   {
    "duration": 471,
    "start_time": "2022-03-11T18:23:52.161Z"
   },
   {
    "duration": 5,
    "start_time": "2022-03-11T18:23:52.633Z"
   },
   {
    "duration": 9,
    "start_time": "2022-03-11T18:23:52.639Z"
   },
   {
    "duration": 58,
    "start_time": "2022-03-11T18:23:52.649Z"
   },
   {
    "duration": 159,
    "start_time": "2022-03-11T18:23:52.709Z"
   },
   {
    "duration": 145,
    "start_time": "2022-03-11T18:23:52.869Z"
   },
   {
    "duration": 26,
    "start_time": "2022-03-11T18:23:53.015Z"
   },
   {
    "duration": 111,
    "start_time": "2022-03-11T18:23:53.043Z"
   },
   {
    "duration": 6,
    "start_time": "2022-03-11T18:23:53.155Z"
   },
   {
    "duration": 10,
    "start_time": "2022-03-11T18:23:53.163Z"
   },
   {
    "duration": 27,
    "start_time": "2022-03-11T18:23:53.175Z"
   },
   {
    "duration": 9,
    "start_time": "2022-03-11T18:23:53.204Z"
   },
   {
    "duration": 7,
    "start_time": "2022-03-11T18:23:53.214Z"
   },
   {
    "duration": 10,
    "start_time": "2022-03-11T18:23:53.222Z"
   },
   {
    "duration": 13,
    "start_time": "2022-03-11T18:23:53.234Z"
   },
   {
    "duration": 3,
    "start_time": "2022-03-11T18:26:18.485Z"
   },
   {
    "duration": 11,
    "start_time": "2022-03-11T18:26:20.010Z"
   },
   {
    "duration": 2,
    "start_time": "2022-03-11T18:29:16.414Z"
   },
   {
    "duration": 8,
    "start_time": "2022-03-11T18:29:19.275Z"
   },
   {
    "duration": 3,
    "start_time": "2022-03-11T18:29:38.648Z"
   },
   {
    "duration": 8,
    "start_time": "2022-03-11T18:29:41.046Z"
   },
   {
    "duration": 3,
    "start_time": "2022-03-11T18:29:50.980Z"
   },
   {
    "duration": 8,
    "start_time": "2022-03-11T18:29:53.526Z"
   },
   {
    "duration": 3,
    "start_time": "2022-03-11T18:30:00.544Z"
   },
   {
    "duration": 9,
    "start_time": "2022-03-11T18:30:01.755Z"
   },
   {
    "duration": 150,
    "start_time": "2022-03-11T18:31:26.626Z"
   },
   {
    "duration": 1171,
    "start_time": "2022-03-11T18:32:30.974Z"
   },
   {
    "duration": 66,
    "start_time": "2022-03-11T18:32:32.147Z"
   },
   {
    "duration": 64,
    "start_time": "2022-03-11T18:32:32.214Z"
   },
   {
    "duration": 2,
    "start_time": "2022-03-11T18:32:32.280Z"
   },
   {
    "duration": 2,
    "start_time": "2022-03-11T18:32:32.301Z"
   },
   {
    "duration": 5,
    "start_time": "2022-03-11T18:32:32.305Z"
   },
   {
    "duration": 5,
    "start_time": "2022-03-11T18:32:32.311Z"
   },
   {
    "duration": 13,
    "start_time": "2022-03-11T18:32:32.318Z"
   },
   {
    "duration": 5,
    "start_time": "2022-03-11T18:32:32.333Z"
   },
   {
    "duration": 7,
    "start_time": "2022-03-11T18:32:32.339Z"
   },
   {
    "duration": 18,
    "start_time": "2022-03-11T18:32:32.347Z"
   },
   {
    "duration": 34,
    "start_time": "2022-03-11T18:32:32.367Z"
   },
   {
    "duration": 7,
    "start_time": "2022-03-11T18:32:32.403Z"
   },
   {
    "duration": 7,
    "start_time": "2022-03-11T18:32:32.412Z"
   },
   {
    "duration": 9,
    "start_time": "2022-03-11T18:32:32.421Z"
   },
   {
    "duration": 12,
    "start_time": "2022-03-11T18:32:32.431Z"
   },
   {
    "duration": 5,
    "start_time": "2022-03-11T18:32:32.445Z"
   },
   {
    "duration": 13,
    "start_time": "2022-03-11T18:32:32.452Z"
   },
   {
    "duration": 342,
    "start_time": "2022-03-11T18:32:32.467Z"
   },
   {
    "duration": 267,
    "start_time": "2022-03-11T18:32:32.810Z"
   },
   {
    "duration": 259,
    "start_time": "2022-03-11T18:32:33.078Z"
   },
   {
    "duration": 332,
    "start_time": "2022-03-11T18:32:33.339Z"
   },
   {
    "duration": 560,
    "start_time": "2022-03-11T18:32:33.674Z"
   },
   {
    "duration": 462,
    "start_time": "2022-03-11T18:32:34.236Z"
   },
   {
    "duration": 451,
    "start_time": "2022-03-11T18:32:34.700Z"
   },
   {
    "duration": 3,
    "start_time": "2022-03-11T18:32:35.153Z"
   },
   {
    "duration": 405,
    "start_time": "2022-03-11T18:32:35.158Z"
   },
   {
    "duration": 5,
    "start_time": "2022-03-11T18:32:35.565Z"
   },
   {
    "duration": 408,
    "start_time": "2022-03-11T18:32:35.572Z"
   },
   {
    "duration": 6,
    "start_time": "2022-03-11T18:32:35.982Z"
   },
   {
    "duration": 19,
    "start_time": "2022-03-11T18:32:35.990Z"
   },
   {
    "duration": 8,
    "start_time": "2022-03-11T18:32:36.011Z"
   },
   {
    "duration": 126,
    "start_time": "2022-03-11T18:32:36.021Z"
   },
   {
    "duration": 136,
    "start_time": "2022-03-11T18:32:36.148Z"
   },
   {
    "duration": 37,
    "start_time": "2022-03-11T18:32:36.286Z"
   },
   {
    "duration": 111,
    "start_time": "2022-03-11T18:32:36.325Z"
   },
   {
    "duration": 6,
    "start_time": "2022-03-11T18:32:36.438Z"
   },
   {
    "duration": 10,
    "start_time": "2022-03-11T18:32:36.445Z"
   },
   {
    "duration": 11,
    "start_time": "2022-03-11T18:32:36.456Z"
   },
   {
    "duration": 9,
    "start_time": "2022-03-11T18:32:36.468Z"
   },
   {
    "duration": 6,
    "start_time": "2022-03-11T18:32:36.502Z"
   },
   {
    "duration": 8,
    "start_time": "2022-03-11T18:32:36.510Z"
   },
   {
    "duration": 12,
    "start_time": "2022-03-11T18:32:36.519Z"
   },
   {
    "duration": 338,
    "start_time": "2022-03-11T18:36:05.392Z"
   },
   {
    "duration": 327,
    "start_time": "2022-03-11T18:36:13.577Z"
   },
   {
    "duration": 324,
    "start_time": "2022-03-11T18:36:21.677Z"
   },
   {
    "duration": 324,
    "start_time": "2022-03-11T18:36:29.198Z"
   },
   {
    "duration": 324,
    "start_time": "2022-03-11T18:36:42.819Z"
   },
   {
    "duration": 1634,
    "start_time": "2022-03-12T06:45:34.240Z"
   },
   {
    "duration": 46,
    "start_time": "2022-03-12T06:45:35.877Z"
   },
   {
    "duration": 152,
    "start_time": "2022-03-12T06:45:35.926Z"
   },
   {
    "duration": 4,
    "start_time": "2022-03-12T06:45:36.081Z"
   },
   {
    "duration": 28,
    "start_time": "2022-03-12T06:45:36.088Z"
   },
   {
    "duration": 18,
    "start_time": "2022-03-12T06:45:36.119Z"
   },
   {
    "duration": 34,
    "start_time": "2022-03-12T06:45:36.140Z"
   },
   {
    "duration": 29,
    "start_time": "2022-03-12T06:45:36.179Z"
   },
   {
    "duration": 29,
    "start_time": "2022-03-12T06:45:36.211Z"
   },
   {
    "duration": 13,
    "start_time": "2022-03-12T06:45:36.243Z"
   },
   {
    "duration": 46,
    "start_time": "2022-03-12T06:45:36.258Z"
   },
   {
    "duration": 19,
    "start_time": "2022-03-12T06:45:36.306Z"
   },
   {
    "duration": 51,
    "start_time": "2022-03-12T06:45:36.327Z"
   },
   {
    "duration": 45,
    "start_time": "2022-03-12T06:45:36.381Z"
   },
   {
    "duration": 27,
    "start_time": "2022-03-12T06:45:36.428Z"
   },
   {
    "duration": 30,
    "start_time": "2022-03-12T06:45:36.457Z"
   },
   {
    "duration": 11,
    "start_time": "2022-03-12T06:45:36.490Z"
   },
   {
    "duration": 40,
    "start_time": "2022-03-12T06:45:36.504Z"
   },
   {
    "duration": 622,
    "start_time": "2022-03-12T06:45:36.547Z"
   },
   {
    "duration": 475,
    "start_time": "2022-03-12T06:45:37.171Z"
   },
   {
    "duration": 466,
    "start_time": "2022-03-12T06:45:37.649Z"
   },
   {
    "duration": 583,
    "start_time": "2022-03-12T06:45:38.119Z"
   },
   {
    "duration": 462,
    "start_time": "2022-03-12T06:45:38.709Z"
   },
   {
    "duration": 596,
    "start_time": "2022-03-12T06:45:39.174Z"
   },
   {
    "duration": 832,
    "start_time": "2022-03-12T06:45:39.774Z"
   },
   {
    "duration": 6,
    "start_time": "2022-03-12T06:45:40.609Z"
   },
   {
    "duration": 640,
    "start_time": "2022-03-12T06:45:40.618Z"
   },
   {
    "duration": 14,
    "start_time": "2022-03-12T06:45:41.261Z"
   },
   {
    "duration": 556,
    "start_time": "2022-03-12T06:45:41.278Z"
   },
   {
    "duration": 8,
    "start_time": "2022-03-12T06:45:41.838Z"
   },
   {
    "duration": 36,
    "start_time": "2022-03-12T06:45:41.849Z"
   },
   {
    "duration": 18,
    "start_time": "2022-03-12T06:45:41.887Z"
   },
   {
    "duration": 272,
    "start_time": "2022-03-12T06:45:41.908Z"
   },
   {
    "duration": 233,
    "start_time": "2022-03-12T06:45:42.183Z"
   },
   {
    "duration": 65,
    "start_time": "2022-03-12T06:45:42.418Z"
   },
   {
    "duration": 218,
    "start_time": "2022-03-12T06:45:42.485Z"
   },
   {
    "duration": 10,
    "start_time": "2022-03-12T06:45:42.706Z"
   },
   {
    "duration": 18,
    "start_time": "2022-03-12T06:45:42.719Z"
   },
   {
    "duration": 48,
    "start_time": "2022-03-12T06:45:42.739Z"
   },
   {
    "duration": 16,
    "start_time": "2022-03-12T06:45:42.789Z"
   },
   {
    "duration": 20,
    "start_time": "2022-03-12T06:45:42.807Z"
   },
   {
    "duration": 50,
    "start_time": "2022-03-12T06:45:42.830Z"
   },
   {
    "duration": 22,
    "start_time": "2022-03-12T06:45:42.882Z"
   },
   {
    "duration": 1476,
    "start_time": "2022-03-12T09:38:50.861Z"
   },
   {
    "duration": 44,
    "start_time": "2022-03-12T09:38:52.340Z"
   },
   {
    "duration": 134,
    "start_time": "2022-03-12T09:38:52.387Z"
   },
   {
    "duration": 4,
    "start_time": "2022-03-12T09:38:52.551Z"
   },
   {
    "duration": 7,
    "start_time": "2022-03-12T09:38:52.557Z"
   },
   {
    "duration": 11,
    "start_time": "2022-03-12T09:38:52.566Z"
   },
   {
    "duration": 9,
    "start_time": "2022-03-12T09:38:52.579Z"
   },
   {
    "duration": 19,
    "start_time": "2022-03-12T09:38:52.592Z"
   },
   {
    "duration": 39,
    "start_time": "2022-03-12T09:38:52.614Z"
   },
   {
    "duration": 8,
    "start_time": "2022-03-12T09:38:52.655Z"
   },
   {
    "duration": 24,
    "start_time": "2022-03-12T09:38:52.666Z"
   },
   {
    "duration": 18,
    "start_time": "2022-03-12T09:38:52.693Z"
   },
   {
    "duration": 47,
    "start_time": "2022-03-12T09:38:52.714Z"
   },
   {
    "duration": 15,
    "start_time": "2022-03-12T09:38:52.764Z"
   },
   {
    "duration": 10,
    "start_time": "2022-03-12T09:38:52.781Z"
   },
   {
    "duration": 14,
    "start_time": "2022-03-12T09:38:52.794Z"
   },
   {
    "duration": 42,
    "start_time": "2022-03-12T09:38:52.810Z"
   },
   {
    "duration": 14,
    "start_time": "2022-03-12T09:38:52.855Z"
   },
   {
    "duration": 608,
    "start_time": "2022-03-12T09:38:52.871Z"
   },
   {
    "duration": 440,
    "start_time": "2022-03-12T09:38:53.481Z"
   },
   {
    "duration": 430,
    "start_time": "2022-03-12T09:38:53.924Z"
   },
   {
    "duration": 523,
    "start_time": "2022-03-12T09:38:54.357Z"
   },
   {
    "duration": 432,
    "start_time": "2022-03-12T09:38:54.887Z"
   },
   {
    "duration": 580,
    "start_time": "2022-03-12T09:38:55.323Z"
   },
   {
    "duration": 722,
    "start_time": "2022-03-12T09:38:55.905Z"
   },
   {
    "duration": 5,
    "start_time": "2022-03-12T09:38:56.630Z"
   },
   {
    "duration": 628,
    "start_time": "2022-03-12T09:38:56.637Z"
   },
   {
    "duration": 8,
    "start_time": "2022-03-12T09:38:57.267Z"
   },
   {
    "duration": 522,
    "start_time": "2022-03-12T09:38:57.277Z"
   },
   {
    "duration": 6,
    "start_time": "2022-03-12T09:38:57.802Z"
   },
   {
    "duration": 19,
    "start_time": "2022-03-12T09:38:57.810Z"
   },
   {
    "duration": 35,
    "start_time": "2022-03-12T09:38:57.831Z"
   },
   {
    "duration": 201,
    "start_time": "2022-03-12T09:38:57.868Z"
   },
   {
    "duration": 249,
    "start_time": "2022-03-12T09:38:58.071Z"
   },
   {
    "duration": 58,
    "start_time": "2022-03-12T09:38:58.322Z"
   },
   {
    "duration": 228,
    "start_time": "2022-03-12T09:38:58.383Z"
   },
   {
    "duration": 7,
    "start_time": "2022-03-12T09:38:58.614Z"
   },
   {
    "duration": 32,
    "start_time": "2022-03-12T09:38:58.624Z"
   },
   {
    "duration": 26,
    "start_time": "2022-03-12T09:38:58.659Z"
   },
   {
    "duration": 16,
    "start_time": "2022-03-12T09:38:58.688Z"
   },
   {
    "duration": 49,
    "start_time": "2022-03-12T09:38:58.707Z"
   },
   {
    "duration": 18,
    "start_time": "2022-03-12T09:38:58.758Z"
   },
   {
    "duration": 27,
    "start_time": "2022-03-12T09:38:58.778Z"
   }
  ],
  "kernelspec": {
   "display_name": "Python 3 (ipykernel)",
   "language": "python",
   "name": "python3"
  },
  "language_info": {
   "codemirror_mode": {
    "name": "ipython",
    "version": 3
   },
   "file_extension": ".py",
   "mimetype": "text/x-python",
   "name": "python",
   "nbconvert_exporter": "python",
   "pygments_lexer": "ipython3",
   "version": "3.9.7"
  },
  "toc": {
   "base_numbering": 1,
   "nav_menu": {},
   "number_sections": true,
   "sideBar": true,
   "skip_h1_title": true,
   "title_cell": "Table of Contents",
   "title_sidebar": "Contents",
   "toc_cell": false,
   "toc_position": {},
   "toc_section_display": true,
   "toc_window_display": true
  }
 },
 "nbformat": 4,
 "nbformat_minor": 2
}
